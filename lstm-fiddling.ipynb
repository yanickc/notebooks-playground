{
 "cells": [
  {
   "cell_type": "code",
   "execution_count": 1,
   "metadata": {},
   "outputs": [],
   "source": [
    "import torch\n",
    "import torch.nn as nn\n",
    "import torch.nn.functional as F\n",
    "import torch.optim as optim\n",
    "import math\n",
    "\n",
    "# Using `widget` here instead of `notebook` or `inline` to allow for dynamic updating in Jupter Lab \n",
    "import matplotlib.pyplot as plt\n",
    "\n",
    "# Progress bar \n",
    "from tqdm import tqdm_notebook, tnrange"
   ]
  },
  {
   "cell_type": "code",
   "execution_count": 2,
   "metadata": {},
   "outputs": [],
   "source": [
    "import datetime\n",
    "now = datetime.datetime.now().isoformat()"
   ]
  },
  {
   "cell_type": "code",
   "execution_count": 3,
   "metadata": {},
   "outputs": [],
   "source": [
    "torch.manual_seed(1)\n",
    "\n",
    "device = torch.device(\"cuda\" if torch.cuda.is_available() else \"cpu\")\n",
    "# print(f\"device:\\n{device}\\n\")"
   ]
  },
  {
   "cell_type": "markdown",
   "metadata": {},
   "source": [
    "# LSTM "
   ]
  },
  {
   "cell_type": "code",
   "execution_count": 4,
   "metadata": {},
   "outputs": [
    {
     "data": {
      "application/vnd.jupyter.widget-view+json": {
       "model_id": "53774954df2e43e8be90dd1ec836f3a1",
       "version_major": 2,
       "version_minor": 0
      },
      "text/plain": [
       "HBox(children=(IntProgress(value=0, description='epoch', max=1000), HTML(value='')))"
      ]
     },
     "metadata": {},
     "output_type": "display_data"
    },
    {
     "data": {
      "application/vnd.jupyter.widget-view+json": {
       "model_id": "bec241f3548e45b1b87a5367535db05c",
       "version_major": 2,
       "version_minor": 0
      },
      "text/plain": [
       "FigureCanvasNbAgg()"
      ]
     },
     "metadata": {},
     "output_type": "display_data"
    },
    {
     "name": "stdout",
     "output_type": "stream",
     "text": [
      "\n",
      "CPU times: user 20.8 s, sys: 12.3 s, total: 33.1 s\n",
      "Wall time: 19.3 s\n"
     ]
    }
   ],
   "source": [
    "%%time\n",
    "%matplotlib widget\n",
    "\n",
    "EPOCHS = 1000\n",
    "NB_EPOCHS_UPDATE_UI = 25\n",
    "\n",
    "period_samples = 100\n",
    "periods_count = 2\n",
    "\n",
    "inputs = torch.tensor([[[math.sin(2 * math.pi * x / float(period_samples))]] for x in\n",
    "                       range(period_samples * periods_count)])\n",
    "# print(inputs.size())\n",
    "\n",
    "# LST model\n",
    "model = nn.LSTM(input_size=1, hidden_size=1)\n",
    "model.to(device)\n",
    "\n",
    "loss_function = nn.MSELoss()\n",
    "optimizer = optim.SGD(model.parameters(), lr=0.1, momentum=0.9)\n",
    "\n",
    "X = inputs[:-1]\n",
    "X_gpu = X.to(device)\n",
    "\n",
    "Y = inputs[1:]\n",
    "Y_gpu = Y.to(device)\n",
    "\n",
    "h_0 = torch.zeros(1, 1, 1, dtype=torch.float32).to(device)\n",
    "c_0 = torch.zeros(1, 1, 1, dtype=torch.float32).to(device)\n",
    "\n",
    "losses = []\n",
    "\n",
    "def update_plot(fig, ax_loss, ax_fit, losses, X, out_values):\n",
    "    ax_loss.clear()\n",
    "    ax_loss.plot(losses)\n",
    "\n",
    "    ax_fit.clear()\n",
    "    ax_fit.scatter(range(period_samples * periods_count - 1), X.numpy(), color='red', alpha=0.2, label=\"X\")\n",
    "    ax_fit.scatter(range(period_samples * periods_count - 1), out_values.numpy(), color='blue', alpha=0.2, label=\"out\")\n",
    "    ax_fit.legend()\n",
    "\n",
    "    fig.canvas.draw()\n",
    "\n",
    "\n",
    "# Progress bar: tnrange, is a wrapper for tqdm_notebook(range(),xxx)\n",
    "# See https://pypi.org/project/tqdm/#manual\n",
    "with tnrange(EPOCHS, desc=\"epoch\") as t:\n",
    "    fig, ax = plt.subplots(2,1)\n",
    "    ax_loss = ax[0]\n",
    "    ax_fit = ax[1]\n",
    "\n",
    "    for epoch in t:\n",
    "        # Forward\n",
    "        out_values, _ = model(X_gpu, (h_0, c_0))\n",
    "\n",
    "        # Compute the loss, gradients, and update the parameters by calling optimizer.step()\n",
    "        optimizer.zero_grad()\n",
    "        loss = loss_function(out_values, Y_gpu)\n",
    "        loss.backward()\n",
    "        optimizer.step()\n",
    "\n",
    "        losses.append(loss.item())\n",
    "\n",
    "        t.set_postfix(loss=loss.item())\n",
    "\n",
    "        if epoch % NB_EPOCHS_UPDATE_UI == 0:\n",
    "            update_plot(fig, ax_loss, ax_fit, losses, X, out_values.cpu().detach())\n",
    "            \n",
    "    update_plot(fig, ax_loss, ax_fit, losses, X, out_values.cpu().detach())\n"
   ]
  },
  {
   "cell_type": "code",
   "execution_count": 5,
   "metadata": {},
   "outputs": [
    {
     "data": {
      "application/vnd.jupyter.widget-view+json": {
       "model_id": "b184b1117fa84b8fbeb1f34b7a53247f",
       "version_major": 2,
       "version_minor": 0
      },
      "text/plain": [
       "FigureCanvasNbAgg()"
      ]
     },
     "metadata": {},
     "output_type": "display_data"
    }
   ],
   "source": [
    "X_range = [i for i in range(200)]\n",
    "Y_hat = []\n",
    "\n",
    "last_prediction = torch.zeros(1, 1, 1, dtype=torch.float32).to(device)\n",
    "hidden = (torch.zeros(1, 1, 1, dtype=torch.float32).to(device), torch.zeros(1, 1, 1, dtype=torch.float32).to(device))\n",
    "\n",
    "for x in X_range:\n",
    "    out, hidden = model(last_prediction, hidden)\n",
    "    last_prediction = out\n",
    "    \n",
    "    Y_hat.append(out.item())\n",
    "\n",
    "fig, ax = plt.subplots()\n",
    "ax.plot(Y_hat, 'bo', alpha=0.2)\n",
    "ax.plot(inputs.squeeze().numpy(), 'ro', alpha=0.2)\n",
    "fig.show()"
   ]
  },
  {
   "cell_type": "markdown",
   "metadata": {},
   "source": [
    "# LSTMCell"
   ]
  },
  {
   "cell_type": "code",
   "execution_count": 6,
   "metadata": {},
   "outputs": [
    {
     "name": "stdout",
     "output_type": "stream",
     "text": [
      "torch.Size([200, 1, 1])\n"
     ]
    },
    {
     "data": {
      "application/vnd.jupyter.widget-view+json": {
       "model_id": "8a9df38a7d694af493e50c21863643cf",
       "version_major": 2,
       "version_minor": 0
      },
      "text/plain": [
       "HBox(children=(IntProgress(value=0, description='epoch', max=1000), HTML(value='')))"
      ]
     },
     "metadata": {},
     "output_type": "display_data"
    },
    {
     "data": {
      "application/vnd.jupyter.widget-view+json": {
       "model_id": "056b15bc1ded466cae309bd2bc41491d",
       "version_major": 2,
       "version_minor": 0
      },
      "text/plain": [
       "FigureCanvasNbAgg()"
      ]
     },
     "metadata": {},
     "output_type": "display_data"
    },
    {
     "name": "stdout",
     "output_type": "stream",
     "text": [
      "\n",
      "CPU times: user 1min 50s, sys: 12 s, total: 2min 2s\n",
      "Wall time: 1min 47s\n"
     ]
    }
   ],
   "source": [
    "%%time\n",
    "\n",
    "ax_loss = None\n",
    "ax_fit = None\n",
    "\n",
    "\n",
    "EPOCHS = 1000\n",
    "NB_EPOCHS_UPDATE_UI = 25\n",
    "\n",
    "period_samples = 100\n",
    "periods_count = 2\n",
    "inputs = torch.tensor([[[math.sin(2 * math.pi * x / float(period_samples))]] for x in\n",
    "                       range(period_samples * periods_count)], dtype=torch.float32)\n",
    "print(inputs.size())\n",
    "\n",
    "# LST model\n",
    "model = nn.LSTMCell(input_size=1, hidden_size=1)\n",
    "model.to(device)\n",
    "\n",
    "loss_function = nn.MSELoss()\n",
    "optimizer = optim.SGD(model.parameters(), lr=0.1, momentum=0.9)\n",
    "\n",
    "X = inputs[:-1]\n",
    "X_gpu = X.to(device)\n",
    "\n",
    "Y = inputs[1:]\n",
    "Y_gpu = Y.to(device)\n",
    "\n",
    "losses = []\n",
    "\n",
    "def update_plot(fig, ax_loss, ax_fit, losses, X, out_values):\n",
    "    pass\n",
    "    ax_loss.clear()\n",
    "    ax_loss.plot(losses)\n",
    "\n",
    "    ax_fit.clear()\n",
    "    ax_fit.scatter(range(period_samples * periods_count - 1), X.numpy(), color='red', alpha=0.2, label=\"X\")\n",
    "    ax_fit.scatter(range(period_samples * periods_count - 1), out_values.numpy(), color='blue', alpha=0.2, label=\"out\")\n",
    "    ax_fit.legend()\n",
    "\n",
    "    fig.canvas.draw()\n",
    "\n",
    "    \n",
    "# Progress bar: tnrange, is a wrapper for tqdm_notebook(range(),xxx)\n",
    "# See https://pypi.org/project/tqdm/#manual\n",
    "with tnrange(EPOCHS, desc=\"epoch\") as progress:\n",
    "    fig2, ax2 = plt.subplots(2,1)\n",
    "    ax_loss = ax2[0]\n",
    "    ax_fit = ax2[1]\n",
    "    \n",
    "    for epoch in progress:\n",
    "        h_0 = torch.zeros(1, 1, dtype=torch.float32).to(device)\n",
    "        c_0 = torch.zeros(1, 1, dtype=torch.float32).to(device)\n",
    "\n",
    "        h_1 = h_0\n",
    "        c_1 = c_0\n",
    "        \n",
    "        out_values = torch.zeros(Y.size()[0], 1, 1, dtype=torch.float32).to(device)\n",
    "        \n",
    "        # Forward\n",
    "        for i, x in enumerate(X_gpu):\n",
    "            h_1, c_1 = model(x, (h_1, c_1))\n",
    "            out_values[i].add_(h_1)\n",
    "\n",
    "        # Compute the loss, gradients, and update the parameters by calling optimizer.step()\n",
    "        optimizer.zero_grad()\n",
    "        loss = loss_function(out_values, Y_gpu)\n",
    "        loss.backward()\n",
    "        optimizer.step()\n",
    "\n",
    "        losses.append(loss.item())           \n",
    "        progress.set_postfix(loss=loss.item())\n",
    "        if epoch % NB_EPOCHS_UPDATE_UI == 0:\n",
    "            update_plot(fig2, ax_loss, ax_fit, losses, X, out_values.cpu().detach())\n",
    "            \n",
    "    update_plot(fig2, ax_loss, ax_fit, losses, X, out_values.cpu().detach())"
   ]
  },
  {
   "cell_type": "code",
   "execution_count": 9,
   "metadata": {},
   "outputs": [
    {
     "data": {
      "application/vnd.jupyter.widget-view+json": {
       "model_id": "cc7f197e02dc4001bf48beab2ed2fa44",
       "version_major": 2,
       "version_minor": 0
      },
      "text/plain": [
       "FigureCanvasNbAgg()"
      ]
     },
     "metadata": {},
     "output_type": "display_data"
    }
   ],
   "source": [
    "X_range = [i for i in range(200)]\n",
    "Y_hat = []\n",
    "\n",
    "last_prediction = torch.zeros(1, 1, dtype=torch.float32).to(device)\n",
    "h_0 = torch.zeros(1, 1, dtype=torch.float32).to(device)\n",
    "c_0 = torch.zeros(1, 1, dtype=torch.float32).to(device)\n",
    "\n",
    "h_1 = h_0\n",
    "c_1 = c_0\n",
    "\n",
    "for x in X_range:\n",
    "    h_1, c_1 = model(last_prediction, (h_1, c_1))\n",
    "    last_prediction = h_1\n",
    "    \n",
    "    Y_hat.append(h_1.item())\n",
    "\n",
    "fix, ax = plt.subplots()\n",
    "ax.plot(Y_hat, 'bo', alpha=0.2)\n",
    "ax.plot(inputs.squeeze().numpy(), 'ro', alpha=0.2)\n",
    "fig.show()"
   ]
  },
  {
   "cell_type": "code",
   "execution_count": null,
   "metadata": {},
   "outputs": [],
   "source": []
  }
 ],
 "metadata": {
  "kernelspec": {
   "display_name": "Python 3",
   "language": "python",
   "name": "python3"
  },
  "language_info": {
   "codemirror_mode": {
    "name": "ipython",
    "version": 3
   },
   "file_extension": ".py",
   "mimetype": "text/x-python",
   "name": "python",
   "nbconvert_exporter": "python",
   "pygments_lexer": "ipython3",
   "version": "3.7.0"
  },
  "toc-autonumbering": false,
  "toc-showcode": true,
  "toc-showmarkdowntxt": true,
  "toc-showtags": true
 },
 "nbformat": 4,
 "nbformat_minor": 2
}
