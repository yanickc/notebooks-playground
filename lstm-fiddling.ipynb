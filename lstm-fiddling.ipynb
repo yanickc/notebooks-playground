{
 "cells": [
  {
   "cell_type": "code",
   "execution_count": 1,
   "metadata": {},
   "outputs": [],
   "source": [
    "import torch\n",
    "import torch.nn as nn\n",
    "import torch.nn.functional as F\n",
    "import torch.optim as optim\n",
    "import math\n",
    "import matplotlib.pyplot as plt\n",
    "\n",
    "from tqdm import tqdm_notebook, tnrange"
   ]
  },
  {
   "cell_type": "code",
   "execution_count": 2,
   "metadata": {},
   "outputs": [],
   "source": [
    "import datetime\n",
    "now = datetime.datetime.now().isoformat()"
   ]
  },
  {
   "cell_type": "code",
   "execution_count": 3,
   "metadata": {},
   "outputs": [],
   "source": [
    "torch.manual_seed(1)\n",
    "\n",
    "device = torch.device(\"cuda\" if torch.cuda.is_available() else \"cpu\")\n",
    "# print(f\"device:\\n{device}\\n\")"
   ]
  },
  {
   "cell_type": "markdown",
   "metadata": {},
   "source": [
    "# LSTM "
   ]
  },
  {
   "cell_type": "code",
   "execution_count": 4,
   "metadata": {},
   "outputs": [
    {
     "data": {
      "application/vnd.jupyter.widget-view+json": {
       "model_id": "06a1794133f94d859a14163a10f289df",
       "version_major": 2,
       "version_minor": 0
      },
      "text/plain": [
       "HBox(children=(IntProgress(value=0, description='epoch', max=2000), HTML(value='')))"
      ]
     },
     "metadata": {},
     "output_type": "display_data"
    },
    {
     "data": {
      "application/vnd.jupyter.widget-view+json": {
       "model_id": "4bef9cb9c5334a62b98e6f0fdf63e7cb",
       "version_major": 2,
       "version_minor": 0
      },
      "text/plain": [
       "FigureCanvasNbAgg()"
      ]
     },
     "metadata": {},
     "output_type": "display_data"
    },
    {
     "name": "stdout",
     "output_type": "stream",
     "text": [
      "\n",
      "CPU times: user 23.2 s, sys: 6.94 s, total: 30.1 s\n",
      "Wall time: 23.2 s\n"
     ]
    }
   ],
   "source": [
    "%%time\n",
    "\n",
    "# Using `widget` here instead of `notebook` or `inline` to allow for dynamic updating in Jupter Lab \n",
    "%matplotlib widget\n",
    "\n",
    "EPOCHS = 2000\n",
    "period_samples = 100\n",
    "periods_count = 2\n",
    "inputs = torch.tensor([[[math.sin(2 * math.pi * x / float(period_samples))]] for x in\n",
    "                       range(period_samples * periods_count)])\n",
    "\n",
    "# LST model\n",
    "model = nn.LSTM(input_size=1, hidden_size=1)\n",
    "model.to(device)\n",
    "\n",
    "loss_function = nn.MSELoss()\n",
    "optimizer = optim.SGD(model.parameters(), lr=0.1, momentum=0.9)\n",
    "\n",
    "X = inputs[:-1]\n",
    "X_gpu = X.to(device)\n",
    "\n",
    "Y = inputs[1:]\n",
    "Y_gpu = Y.to(device)\n",
    "\n",
    "hidden = (torch.zeros(1, 1, 1).to(device), torch.zeros(1, 1, 1).to(device))\n",
    "losses = []\n",
    "\n",
    "# tnrange, is a wrapper for tqdm_notebook(range(),xxx)\n",
    "# See https://pypi.org/project/tqdm/#manual\n",
    "with tnrange(EPOCHS, desc=\"epoch\") as t:\n",
    "    fig = plt.figure()\n",
    "    ax_loss = fig.add_subplot(121)\n",
    "    ax_fit = fig.add_subplot(122)\n",
    "    plt.ioff()\n",
    "    fig.show()\n",
    "    fig.canvas.draw()\n",
    "    \n",
    "    for epoch in t:\n",
    "\n",
    "        # Forward\n",
    "        out, _ = model(X_gpu, hidden)\n",
    "\n",
    "        # Compute the loss, gradients, and update the parameters by calling optimizer.step()\n",
    "        optimizer.zero_grad()\n",
    "        loss = loss_function(out, Y_gpu)\n",
    "        loss.backward()\n",
    "        optimizer.step()\n",
    "        \n",
    "        losses.append(loss.item())\n",
    "        \n",
    "        t.set_postfix(loss=loss.item())\n",
    "        \n",
    "        if epoch % 100 == 0:\n",
    "            ax_loss.clear()\n",
    "            ax_loss.plot(losses)\n",
    "            ax_fit.clear()\n",
    "            ax_fit.scatter(range(period_samples * periods_count - 1), X.numpy(), color='red', alpha=0.25, label=\"X\")\n",
    "            ax_fit.scatter(range(period_samples * periods_count - 1), out.cpu().detach().numpy(), color='blue', alpha=0.25, label=\"out\")\n",
    "            ax_fit.legend()\n",
    "            fig.canvas.draw()\n",
    "            \n",
    "            \n",
    "    # Set a larget at the to workaround a Juupyter lab matplotlib widget bug with live updateing large plots being truncated.\n",
    "    fig.set_size_inches(8,4)\n",
    "    "
   ]
  },
  {
   "cell_type": "code",
   "execution_count": 5,
   "metadata": {},
   "outputs": [
    {
     "data": {
      "application/vnd.jupyter.widget-view+json": {
       "model_id": "f4beb09c462042c5abbe23460042aff9",
       "version_major": 2,
       "version_minor": 0
      },
      "text/plain": [
       "FigureCanvasNbAgg()"
      ]
     },
     "metadata": {},
     "output_type": "display_data"
    }
   ],
   "source": [
    "hidden = (torch.zeros(1, 1, 1).to(device), torch.zeros(1, 1, 1).to(device))\n",
    "X_range = [i for i in range(200)]\n",
    "Y_hat = []\n",
    "last_prediction = torch.zeros(1, 1, 1, dtype=torch.float32).to(device)\n",
    "for x in X_range:\n",
    "    out, hidden = model(last_prediction, hidden)\n",
    "    last_prediction = out\n",
    "    Y_hat.append(out.item())\n",
    "\n",
    "plt.figure()\n",
    "plt.scatter(X_range,Y_hat)\n",
    "plt.scatter(X_range, inputs.numpy())\n",
    "plt.show()"
   ]
  },
  {
   "cell_type": "markdown",
   "metadata": {},
   "source": [
    "# LSTMCell"
   ]
  },
  {
   "cell_type": "code",
   "execution_count": null,
   "metadata": {},
   "outputs": [],
   "source": []
  },
  {
   "cell_type": "code",
   "execution_count": null,
   "metadata": {},
   "outputs": [],
   "source": []
  }
 ],
 "metadata": {
  "kernelspec": {
   "display_name": "Python 3",
   "language": "python",
   "name": "python3"
  },
  "language_info": {
   "codemirror_mode": {
    "name": "ipython",
    "version": 3
   },
   "file_extension": ".py",
   "mimetype": "text/x-python",
   "name": "python",
   "nbconvert_exporter": "python",
   "pygments_lexer": "ipython3",
   "version": "3.7.0"
  },
  "toc-autonumbering": false,
  "toc-showcode": true,
  "toc-showmarkdowntxt": true,
  "toc-showtags": true
 },
 "nbformat": 4,
 "nbformat_minor": 2
}
