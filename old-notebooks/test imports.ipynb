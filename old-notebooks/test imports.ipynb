{
 "cells": [
  {
   "cell_type": "code",
   "execution_count": 1,
   "metadata": {},
   "outputs": [
    {
     "name": "stdout",
     "output_type": "stream",
     "text": [
      "/projects/timeseries/code/yanick/notebooks\n",
      "base.ipynb\t    test cuda.ipynb\t       test_sub_folder\n",
      "out.txt\t\t    test imports.ipynb\t       ts_lstm.ipynb\n",
      "overfit-test.ipynb  test long running.ipynb    ts_theta.ipynb\n",
      "overfit.ipynb\t    test_dataset_loader.ipynb\n"
     ]
    }
   ],
   "source": [
    "!pwd\n",
    "!ls"
   ]
  },
  {
   "cell_type": "code",
   "execution_count": 3,
   "metadata": {},
   "outputs": [
    {
     "data": {
      "text/plain": [
       "'/projects/timeseries/code/yanick/:/home/jupyter/src'"
      ]
     },
     "execution_count": 3,
     "metadata": {},
     "output_type": "execute_result"
    }
   ],
   "source": [
    "import os\n",
    "os.environ['PYTHONPATH']"
   ]
  },
  {
   "cell_type": "code",
   "execution_count": 4,
   "metadata": {},
   "outputs": [
    {
     "name": "stdout",
     "output_type": "stream",
     "text": [
      "notebooks  test.txt  tools  toto.py  utils\n"
     ]
    }
   ],
   "source": [
    "!ls /projects/timeseries/code/yanick\n"
   ]
  },
  {
   "cell_type": "code",
   "execution_count": 5,
   "metadata": {},
   "outputs": [
    {
     "data": {
      "text/plain": [
       "['',\n",
       " '/projects/timeseries/code/yanick/notebooks',\n",
       " '/projects/timeseries/code/yanick',\n",
       " '/home/jupyter/src',\n",
       " '/usr/lib/python37.zip',\n",
       " '/usr/lib/python3.7',\n",
       " '/usr/lib/python3.7/lib-dynload',\n",
       " '/usr/local/lib/python3.7/dist-packages',\n",
       " '/usr/lib/python3/dist-packages',\n",
       " '/usr/local/lib/python3.7/dist-packages/IPython/extensions',\n",
       " '/home/jupyter/.ipython']"
      ]
     },
     "execution_count": 5,
     "metadata": {},
     "output_type": "execute_result"
    }
   ],
   "source": [
    "import sys\n",
    "sys.path"
   ]
  },
  {
   "cell_type": "code",
   "execution_count": 1,
   "metadata": {},
   "outputs": [
    {
     "name": "stdout",
     "output_type": "stream",
     "text": [
      "hello_from_slash_mount!!! Pat!\n"
     ]
    }
   ],
   "source": [
    "from utils.say_hello import hello\n",
    "hello()"
   ]
  },
  {
   "cell_type": "code",
   "execution_count": 2,
   "metadata": {},
   "outputs": [
    {
     "name": "stdout",
     "output_type": "stream",
     "text": [
      "allo\n",
      "toto(): 0.14 ms\n"
     ]
    }
   ],
   "source": [
    "from utils.stopwatch import stopwatch\n",
    "\n",
    "@stopwatch\n",
    "def toto():\n",
    "    print(\"allo\")\n",
    "\n",
    "toto()"
   ]
  },
  {
   "cell_type": "code",
   "execution_count": 5,
   "metadata": {},
   "outputs": [
    {
     "data": {
      "text/plain": [
       "array([[0., 0.],\n",
       "       [0., 0.],\n",
       "       [0., 0.],\n",
       "       [0., 0.],\n",
       "       [0., 0.],\n",
       "       [0., 0.],\n",
       "       [0., 0.],\n",
       "       [0., 0.],\n",
       "       [0., 0.],\n",
       "       [0., 0.]])"
      ]
     },
     "execution_count": 5,
     "metadata": {},
     "output_type": "execute_result"
    }
   ],
   "source": [
    "import numpy as np\n",
    "np.zeros((10, 2))"
   ]
  },
  {
   "cell_type": "code",
   "execution_count": null,
   "metadata": {},
   "outputs": [],
   "source": []
  }
 ],
 "metadata": {
  "kernelspec": {
   "display_name": "Python 3",
   "language": "python",
   "name": "python3"
  },
  "language_info": {
   "codemirror_mode": {
    "name": "ipython",
    "version": 3
   },
   "file_extension": ".py",
   "mimetype": "text/x-python",
   "name": "python",
   "nbconvert_exporter": "python",
   "pygments_lexer": "ipython3",
   "version": "3.7.0"
  }
 },
 "nbformat": 4,
 "nbformat_minor": 2
}
