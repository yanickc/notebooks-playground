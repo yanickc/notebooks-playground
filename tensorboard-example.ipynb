{
 "cells": [
  {
   "cell_type": "code",
   "execution_count": 1,
   "metadata": {},
   "outputs": [],
   "source": [
    "import torch\n",
    "import torch.nn as nn\n",
    "import torch.nn.functional as F\n",
    "import torch.optim as optim\n",
    "import math\n",
    "import matplotlib.pyplot as plt\n",
    "\n",
    "import datetime\n",
    "now = datetime.datetime.now().isoformat()"
   ]
  },
  {
   "cell_type": "markdown",
   "metadata": {},
   "source": [
    "# Example usage of `tensorboardX` "
   ]
  },
  {
   "cell_type": "code",
   "execution_count": 2,
   "metadata": {},
   "outputs": [],
   "source": [
    "from tensorboardX import SummaryWriter\n",
    "\n",
    "from datetime import datetime\n",
    "import os\n",
    "\n",
    "def tensor_board_writer(expirement_tag):\n",
    "    current_time = datetime.now().strftime('%Y-%m-%dT%H:%M:%S')\n",
    "    return SummaryWriter(log_dir=os.path.join(\"/\", \"project\", \"code\", \"yanick\", \"tensorboard\", expirement_tag, current_time))"
   ]
  },
  {
   "cell_type": "code",
   "execution_count": 3,
   "metadata": {},
   "outputs": [],
   "source": [
    "torch.manual_seed(1)\n",
    "device = torch.device(\"cuda\" if torch.cuda.is_available() else \"cpu\")\n",
    "# print(f\"device:\\n{device}\\n\")"
   ]
  },
  {
   "cell_type": "code",
   "execution_count": 4,
   "metadata": {},
   "outputs": [
    {
     "name": "stdout",
     "output_type": "stream",
     "text": [
      "CPU times: user 1min 56s, sys: 26 s, total: 2min 22s\n",
      "Wall time: 1min 53s\n"
     ]
    }
   ],
   "source": [
    "%%time\n",
    "\n",
    "EPOCHS = 10000\n",
    "period_samples = 100\n",
    "periods_count = 2\n",
    "inputs = torch.tensor([[[math.sin(2 * math.pi * x / float(period_samples))]] for x in\n",
    "                       range(period_samples * periods_count)])\n",
    "\n",
    "tb = tensor_board_writer(\"lstm,1,1,lr=0.1,momentum=0.9\")\n",
    "\n",
    "# fig = plt.figure()\n",
    "# plt.scatter(range(period_samples * periods_count), inputs.numpy())\n",
    "# tb.add_figure(\"inputs\", fig)\n",
    "# plt.show()\n",
    "\n",
    "# LST model\n",
    "model = nn.LSTM(input_size=1, hidden_size=1)\n",
    "model.to(device)\n",
    "\n",
    "init_state = model.state_dict()\n",
    "\n",
    "loss_function = nn.MSELoss()\n",
    "# optimizer = optim.SGD(model.parameters(), lr=0.1)\n",
    "optimizer = optim.SGD(model.parameters(), lr=0.1, momentum=0.9)\n",
    "\n",
    "for epoch in range(EPOCHS):\n",
    "    X = inputs[:-1]\n",
    "    X_gpu = X.to(device)\n",
    "    \n",
    "    Y = inputs[1:]\n",
    "    Y_gpu = Y.to(device)\n",
    "\n",
    "    # Forward\n",
    "    hidden = (torch.zeros(1, 1, 1).to(device), torch.zeros(1, 1, 1).to(device))\n",
    "    out, hidden = model(X_gpu, hidden)\n",
    "\n",
    "    # Compute the loss, gradients, and update the parameters by calling optimizer.step()\n",
    "    optimizer.zero_grad()\n",
    "    loss = loss_function(out, Y_gpu)\n",
    "    loss.backward()\n",
    "    optimizer.step()\n",
    "\n",
    "    tb.add_scalar(\"loss\", loss, epoch)\n",
    "    if epoch % 100 == 0:\n",
    "        fig = plt.figure()\n",
    "        plt.scatter(range(period_samples * periods_count - 1), X.numpy(), color='red', alpha=0.25, label=\"X\")\n",
    "        plt.scatter(range(period_samples * periods_count - 1), out.cpu().detach().numpy(), color='blue', alpha=0.25,\n",
    "                    label=\"out\")\n",
    "        plt.legend()\n",
    "        tb.add_figure(\"outputs\", fig, epoch)\n",
    "\n",
    "tb.close()\n",
    "\n"
   ]
  },
  {
   "cell_type": "code",
   "execution_count": 42,
   "metadata": {},
   "outputs": [
    {
     "data": {
      "text/plain": [
       "(tensor([[[-0.0650]]], device='cuda:0', grad_fn=<CudnnRnnBackward>),\n",
       " tensor([[[-0.0653]]], device='cuda:0', grad_fn=<CudnnRnnBackward>))"
      ]
     },
     "execution_count": 42,
     "metadata": {},
     "output_type": "execute_result"
    }
   ],
   "source": [
    "hidden"
   ]
  },
  {
   "cell_type": "code",
   "execution_count": 30,
   "metadata": {},
   "outputs": [
    {
     "name": "stdout",
     "output_type": "stream",
     "text": [
      "params:\n",
      "[Parameter containing:\n",
      "tensor([[ 0.7638],\n",
      "        [-0.3898],\n",
      "        [ 3.1583],\n",
      "        [-0.0819]], device='cuda:0', requires_grad=True), Parameter containing:\n",
      "tensor([[-0.8136],\n",
      "        [-0.0385],\n",
      "        [-2.9681],\n",
      "        [ 0.1739]], device='cuda:0', requires_grad=True), Parameter containing:\n",
      "tensor([1.3373, 1.1380, 0.2100, 3.0360], device='cuda:0', requires_grad=True), Parameter containing:\n",
      "tensor([ 1.5635,  0.8708, -0.1403,  2.8967], device='cuda:0', requires_grad=True)]\n",
      "\n",
      "hidden:\n",
      "(tensor([[[-0.0650]]], device='cuda:0', grad_fn=<CudnnRnnBackward>), tensor([[[-0.0653]]], device='cuda:0', grad_fn=<CudnnRnnBackward>))\n",
      "\n"
     ]
    }
   ],
   "source": [
    "params = list(model.parameters())\n",
    "print(f\"params:\\n{params}\\n\")\n",
    "print(f\"hidden:\\n{hidden}\\n\")\n"
   ]
  },
  {
   "cell_type": "code",
   "execution_count": 31,
   "metadata": {},
   "outputs": [
    {
     "data": {
      "image/png": "[encoded data removed]",
      "text/plain": [
       "<Figure size 432x288 with 1 Axes>"
      ]
     },
     "metadata": {
      "needs_background": "light"
     },
     "output_type": "display_data"
    }
   ],
   "source": [
    "plt.scatter(range(period_samples * periods_count - 1), X.numpy(), color='red', alpha=0.25, label=\"X\")\n",
    "plt.scatter(range(period_samples * periods_count - 1), out.cpu().detach().numpy(), color='blue', alpha=0.25, label=\"out\")\n",
    "plt.legend()\n",
    "plt.show()"
   ]
  },
  {
   "cell_type": "code",
   "execution_count": null,
   "metadata": {},
   "outputs": [],
   "source": []
  },
  {
   "cell_type": "code",
   "execution_count": 43,
   "metadata": {},
   "outputs": [
    {
     "name": "stdout",
     "output_type": "stream",
     "text": [
      "params:\n",
      "[Parameter containing:\n",
      "tensor([[-0.6606],\n",
      "        [ 0.0993],\n",
      "        [-0.0443],\n",
      "        [-0.5788],\n",
      "        [ 0.1719],\n",
      "        [ 0.7017],\n",
      "        [ 0.0111],\n",
      "        [ 0.6394]], requires_grad=True), Parameter containing:\n",
      "tensor([[ 0.4322,  0.1896],\n",
      "        [-0.5293, -0.6725],\n",
      "        [ 0.2593, -0.0094],\n",
      "        [-0.3427, -0.3678],\n",
      "        [ 0.6769, -0.1215],\n",
      "        [-0.1725,  0.2269],\n",
      "        [-0.0938,  0.6003],\n",
      "        [ 0.2272,  0.6674]], requires_grad=True), Parameter containing:\n",
      "tensor([ 0.5954, -0.0631, -0.6848,  0.5727, -0.2761, -0.3907,  0.6158,  0.2548],\n",
      "       requires_grad=True), Parameter containing:\n",
      "tensor([-0.0970,  0.4097,  0.3026, -0.4989,  0.5907, -0.5847, -0.4578,  0.0084],\n",
      "       requires_grad=True)]\n",
      "\n",
      "hidden:\n",
      "(tensor([[[-0.0650]]], device='cuda:0', grad_fn=<CudnnRnnBackward>), tensor([[[-0.0653]]], device='cuda:0', grad_fn=<CudnnRnnBackward>))\n",
      "\n",
      "CPU times: user 6.36 ms, sys: 586 µs, total: 6.95 ms\n",
      "Wall time: 5.5 ms\n"
     ]
    }
   ],
   "source": [
    "%%time\n",
    "\n",
    "model = nn.LSTM(input_size=1, hidden_size=2)\n",
    "params = list(model.parameters())\n",
    "print(f\"params:\\n{params}\\n\")\n",
    "print(f\"hidden:\\n{hidden}\\n\")\n"
   ]
  },
  {
   "cell_type": "code",
   "execution_count": null,
   "metadata": {},
   "outputs": [],
   "source": [
    "# ------------------------------------------------------------------------------------------\n",
    "# Generating a noisy multi-sin wave\n",
    "\n",
    "def sine_2(X, signal_freq=60.):\n",
    "    return (np.sin(2 * np.pi * (X) / signal_freq) + np.sin(4 * np.pi * (X) / signal_freq)) / 2.0\n",
    "\n",
    "\n",
    "def noisy(Y, noise_range=(-0.05, 0.05)):\n",
    "    noise = np.random.uniform(noise_range[0], noise_range[1], size=Y.shape)\n",
    "    return Y + noise\n",
    "\n",
    "\n",
    "def sample(sample_size):\n",
    "    random_offset = random.randint(0, sample_size)\n",
    "    X = np.arange(sample_size)\n",
    "    Y = noisy(sine_2(X + random_offset))\n",
    "    return Y"
   ]
  }
 ],
 "metadata": {
  "kernelspec": {
   "display_name": "Python 3",
   "language": "python",
   "name": "python3"
  },
  "language_info": {
   "codemirror_mode": {
    "name": "ipython",
    "version": 3
   },
   "file_extension": ".py",
   "mimetype": "text/x-python",
   "name": "python",
   "nbconvert_exporter": "python",
   "pygments_lexer": "ipython3",
   "version": "3.7.0"
  },
  "toc-showcode": true,
  "toc-showmarkdowntxt": true,
  "toc-showtags": true
 },
 "nbformat": 4,
 "nbformat_minor": 2
}
