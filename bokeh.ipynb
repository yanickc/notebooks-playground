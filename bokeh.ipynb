{
 "cells": [
  {
   "cell_type": "code",
   "execution_count": 41,
   "metadata": {},
   "outputs": [
    {
     "data": {
      "text/html": [
       "\n",
       "    <div class=\"bk-root\">\n",
       "        <a href=\"https://bokeh.pydata.org\" target=\"_blank\" class=\"bk-logo bk-logo-small bk-logo-notebook\"></a>\n",
       "        <span id=\"7bc90ec8-a953-496a-a3c5-8c2863a2e512\">Loading BokehJS ...</span>\n",
       "    </div>"
      ]
     },
     "metadata": {},
     "output_type": "display_data"
    },
    {
     "data": {
      "application/javascript": [
       "\n",
       "(function(root) {\n",
       "  function now() {\n",
       "    return new Date();\n",
       "  }\n",
       "\n",
       "  var force = true;\n",
       "\n",
       "  if (typeof (root._bokeh_onload_callbacks) === \"undefined\" || force === true) {\n",
       "    root._bokeh_onload_callbacks = [];\n",
       "    root._bokeh_is_loading = undefined;\n",
       "  }\n",
       "\n",
       "  var JS_MIME_TYPE = 'application/javascript';\n",
       "  var HTML_MIME_TYPE = 'text/html';\n",
       "  var EXEC_MIME_TYPE = 'application/vnd.bokehjs_exec.v0+json';\n",
       "  var CLASS_NAME = 'output_bokeh rendered_html';\n",
       "\n",
       "  /**\n",
       "   * Render data to the DOM node\n",
       "   */\n",
       "  function render(props, node) {\n",
       "    var script = document.createElement(\"script\");\n",
       "    node.appendChild(script);\n",
       "  }\n",
       "\n",
       "  /**\n",
       "   * Handle when an output is cleared or removed\n",
       "   */\n",
       "  function handleClearOutput(event, handle) {\n",
       "    var cell = handle.cell;\n",
       "\n",
       "    var id = cell.output_area._bokeh_element_id;\n",
       "    var server_id = cell.output_area._bokeh_server_id;\n",
       "    // Clean up Bokeh references\n",
       "    if (id != null && id in Bokeh.index) {\n",
       "      Bokeh.index[id].model.document.clear();\n",
       "      delete Bokeh.index[id];\n",
       "    }\n",
       "\n",
       "    if (server_id !== undefined) {\n",
       "      // Clean up Bokeh references\n",
       "      var cmd = \"from bokeh.io.state import curstate; print(curstate().uuid_to_server['\" + server_id + \"'].get_sessions()[0].document.roots[0]._id)\";\n",
       "      cell.notebook.kernel.execute(cmd, {\n",
       "        iopub: {\n",
       "          output: function(msg) {\n",
       "            var id = msg.content.text.trim();\n",
       "            if (id in Bokeh.index) {\n",
       "              Bokeh.index[id].model.document.clear();\n",
       "              delete Bokeh.index[id];\n",
       "            }\n",
       "          }\n",
       "        }\n",
       "      });\n",
       "      // Destroy server and session\n",
       "      var cmd = \"import bokeh.io.notebook as ion; ion.destroy_server('\" + server_id + \"')\";\n",
       "      cell.notebook.kernel.execute(cmd);\n",
       "    }\n",
       "  }\n",
       "\n",
       "  /**\n",
       "   * Handle when a new output is added\n",
       "   */\n",
       "  function handleAddOutput(event, handle) {\n",
       "    var output_area = handle.output_area;\n",
       "    var output = handle.output;\n",
       "\n",
       "    // limit handleAddOutput to display_data with EXEC_MIME_TYPE content only\n",
       "    if ((output.output_type != \"display_data\") || (!output.data.hasOwnProperty(EXEC_MIME_TYPE))) {\n",
       "      return\n",
       "    }\n",
       "\n",
       "    var toinsert = output_area.element.find(\".\" + CLASS_NAME.split(' ')[0]);\n",
       "\n",
       "    if (output.metadata[EXEC_MIME_TYPE][\"id\"] !== undefined) {\n",
       "      toinsert[toinsert.length - 1].firstChild.textContent = output.data[JS_MIME_TYPE];\n",
       "      // store reference to embed id on output_area\n",
       "      output_area._bokeh_element_id = output.metadata[EXEC_MIME_TYPE][\"id\"];\n",
       "    }\n",
       "    if (output.metadata[EXEC_MIME_TYPE][\"server_id\"] !== undefined) {\n",
       "      var bk_div = document.createElement(\"div\");\n",
       "      bk_div.innerHTML = output.data[HTML_MIME_TYPE];\n",
       "      var script_attrs = bk_div.children[0].attributes;\n",
       "      for (var i = 0; i < script_attrs.length; i++) {\n",
       "        toinsert[toinsert.length - 1].firstChild.setAttribute(script_attrs[i].name, script_attrs[i].value);\n",
       "      }\n",
       "      // store reference to server id on output_area\n",
       "      output_area._bokeh_server_id = output.metadata[EXEC_MIME_TYPE][\"server_id\"];\n",
       "    }\n",
       "  }\n",
       "\n",
       "  function register_renderer(events, OutputArea) {\n",
       "\n",
       "    function append_mime(data, metadata, element) {\n",
       "      // create a DOM node to render to\n",
       "      var toinsert = this.create_output_subarea(\n",
       "        metadata,\n",
       "        CLASS_NAME,\n",
       "        EXEC_MIME_TYPE\n",
       "      );\n",
       "      this.keyboard_manager.register_events(toinsert);\n",
       "      // Render to node\n",
       "      var props = {data: data, metadata: metadata[EXEC_MIME_TYPE]};\n",
       "      render(props, toinsert[toinsert.length - 1]);\n",
       "      element.append(toinsert);\n",
       "      return toinsert\n",
       "    }\n",
       "\n",
       "    /* Handle when an output is cleared or removed */\n",
       "    events.on('clear_output.CodeCell', handleClearOutput);\n",
       "    events.on('delete.Cell', handleClearOutput);\n",
       "\n",
       "    /* Handle when a new output is added */\n",
       "    events.on('output_added.OutputArea', handleAddOutput);\n",
       "\n",
       "    /**\n",
       "     * Register the mime type and append_mime function with output_area\n",
       "     */\n",
       "    OutputArea.prototype.register_mime_type(EXEC_MIME_TYPE, append_mime, {\n",
       "      /* Is output safe? */\n",
       "      safe: true,\n",
       "      /* Index of renderer in `output_area.display_order` */\n",
       "      index: 0\n",
       "    });\n",
       "  }\n",
       "\n",
       "  // register the mime type if in Jupyter Notebook environment and previously unregistered\n",
       "  if (root.Jupyter !== undefined) {\n",
       "    var events = require('base/js/events');\n",
       "    var OutputArea = require('notebook/js/outputarea').OutputArea;\n",
       "\n",
       "    if (OutputArea.prototype.mime_types().indexOf(EXEC_MIME_TYPE) == -1) {\n",
       "      register_renderer(events, OutputArea);\n",
       "    }\n",
       "  }\n",
       "\n",
       "  \n",
       "  if (typeof (root._bokeh_timeout) === \"undefined\" || force === true) {\n",
       "    root._bokeh_timeout = Date.now() + 5000;\n",
       "    root._bokeh_failed_load = false;\n",
       "  }\n",
       "\n",
       "  var NB_LOAD_WARNING = {'data': {'text/html':\n",
       "     \"<div style='background-color: #fdd'>\\n\"+\n",
       "     \"<p>\\n\"+\n",
       "     \"BokehJS does not appear to have successfully loaded. If loading BokehJS from CDN, this \\n\"+\n",
       "     \"may be due to a slow or bad network connection. Possible fixes:\\n\"+\n",
       "     \"</p>\\n\"+\n",
       "     \"<ul>\\n\"+\n",
       "     \"<li>re-rerun `output_notebook()` to attempt to load from CDN again, or</li>\\n\"+\n",
       "     \"<li>use INLINE resources instead, as so:</li>\\n\"+\n",
       "     \"</ul>\\n\"+\n",
       "     \"<code>\\n\"+\n",
       "     \"from bokeh.resources import INLINE\\n\"+\n",
       "     \"output_notebook(resources=INLINE)\\n\"+\n",
       "     \"</code>\\n\"+\n",
       "     \"</div>\"}};\n",
       "\n",
       "  function display_loaded() {\n",
       "    var el = document.getElementById(\"7bc90ec8-a953-496a-a3c5-8c2863a2e512\");\n",
       "    if (el != null) {\n",
       "      el.textContent = \"BokehJS is loading...\";\n",
       "    }\n",
       "    if (root.Bokeh !== undefined) {\n",
       "      if (el != null) {\n",
       "        el.textContent = \"BokehJS \" + root.Bokeh.version + \" successfully loaded.\";\n",
       "      }\n",
       "    } else if (Date.now() < root._bokeh_timeout) {\n",
       "      setTimeout(display_loaded, 100)\n",
       "    }\n",
       "  }\n",
       "\n",
       "\n",
       "  function run_callbacks() {\n",
       "    try {\n",
       "      root._bokeh_onload_callbacks.forEach(function(callback) { callback() });\n",
       "    }\n",
       "    finally {\n",
       "      delete root._bokeh_onload_callbacks\n",
       "    }\n",
       "    console.info(\"Bokeh: all callbacks have finished\");\n",
       "  }\n",
       "\n",
       "  function load_libs(js_urls, callback) {\n",
       "    root._bokeh_onload_callbacks.push(callback);\n",
       "    if (root._bokeh_is_loading > 0) {\n",
       "      console.log(\"Bokeh: BokehJS is being loaded, scheduling callback at\", now());\n",
       "      return null;\n",
       "    }\n",
       "    if (js_urls == null || js_urls.length === 0) {\n",
       "      run_callbacks();\n",
       "      return null;\n",
       "    }\n",
       "    console.log(\"Bokeh: BokehJS not loaded, scheduling load and callback at\", now());\n",
       "    root._bokeh_is_loading = js_urls.length;\n",
       "    for (var i = 0; i < js_urls.length; i++) {\n",
       "      var url = js_urls[i];\n",
       "      var s = document.createElement('script');\n",
       "      s.src = url;\n",
       "      s.async = false;\n",
       "      s.onreadystatechange = s.onload = function() {\n",
       "        root._bokeh_is_loading--;\n",
       "        if (root._bokeh_is_loading === 0) {\n",
       "          console.log(\"Bokeh: all BokehJS libraries loaded\");\n",
       "          run_callbacks()\n",
       "        }\n",
       "      };\n",
       "      s.onerror = function() {\n",
       "        console.warn(\"failed to load library \" + url);\n",
       "      };\n",
       "      console.log(\"Bokeh: injecting script tag for BokehJS library: \", url);\n",
       "      document.getElementsByTagName(\"head\")[0].appendChild(s);\n",
       "    }\n",
       "  };var element = document.getElementById(\"7bc90ec8-a953-496a-a3c5-8c2863a2e512\");\n",
       "  if (element == null) {\n",
       "    console.log(\"Bokeh: ERROR: autoload.js configured with elementid '7bc90ec8-a953-496a-a3c5-8c2863a2e512' but no matching script tag was found. \")\n",
       "    return false;\n",
       "  }\n",
       "\n",
       "  var js_urls = [\"https://cdn.pydata.org/bokeh/release/bokeh-0.13.0.min.js\", \"https://cdn.pydata.org/bokeh/release/bokeh-widgets-0.13.0.min.js\", \"https://cdn.pydata.org/bokeh/release/bokeh-tables-0.13.0.min.js\", \"https://cdn.pydata.org/bokeh/release/bokeh-gl-0.13.0.min.js\"];\n",
       "\n",
       "  var inline_js = [\n",
       "    function(Bokeh) {\n",
       "      Bokeh.set_log_level(\"info\");\n",
       "    },\n",
       "    \n",
       "    function(Bokeh) {\n",
       "      \n",
       "    },\n",
       "    function(Bokeh) {\n",
       "      console.log(\"Bokeh: injecting CSS: https://cdn.pydata.org/bokeh/release/bokeh-0.13.0.min.css\");\n",
       "      Bokeh.embed.inject_css(\"https://cdn.pydata.org/bokeh/release/bokeh-0.13.0.min.css\");\n",
       "      console.log(\"Bokeh: injecting CSS: https://cdn.pydata.org/bokeh/release/bokeh-widgets-0.13.0.min.css\");\n",
       "      Bokeh.embed.inject_css(\"https://cdn.pydata.org/bokeh/release/bokeh-widgets-0.13.0.min.css\");\n",
       "      console.log(\"Bokeh: injecting CSS: https://cdn.pydata.org/bokeh/release/bokeh-tables-0.13.0.min.css\");\n",
       "      Bokeh.embed.inject_css(\"https://cdn.pydata.org/bokeh/release/bokeh-tables-0.13.0.min.css\");\n",
       "    }\n",
       "  ];\n",
       "\n",
       "  function run_inline_js() {\n",
       "    \n",
       "    if ((root.Bokeh !== undefined) || (force === true)) {\n",
       "      for (var i = 0; i < inline_js.length; i++) {\n",
       "        inline_js[i].call(root, root.Bokeh);\n",
       "      }if (force === true) {\n",
       "        display_loaded();\n",
       "      }} else if (Date.now() < root._bokeh_timeout) {\n",
       "      setTimeout(run_inline_js, 100);\n",
       "    } else if (!root._bokeh_failed_load) {\n",
       "      console.log(\"Bokeh: BokehJS failed to load within specified timeout.\");\n",
       "      root._bokeh_failed_load = true;\n",
       "    } else if (force !== true) {\n",
       "      var cell = $(document.getElementById(\"7bc90ec8-a953-496a-a3c5-8c2863a2e512\")).parents('.cell').data().cell;\n",
       "      cell.output_area.append_execute_result(NB_LOAD_WARNING)\n",
       "    }\n",
       "\n",
       "  }\n",
       "\n",
       "  if (root._bokeh_is_loading === 0) {\n",
       "    console.log(\"Bokeh: BokehJS loaded, going straight to plotting\");\n",
       "    run_inline_js();\n",
       "  } else {\n",
       "    load_libs(js_urls, function() {\n",
       "      console.log(\"Bokeh: BokehJS plotting callback run at\", now());\n",
       "      run_inline_js();\n",
       "    });\n",
       "  }\n",
       "}(window));"
      ],
      "application/vnd.bokehjs_load.v0+json": "\n(function(root) {\n  function now() {\n    return new Date();\n  }\n\n  var force = true;\n\n  if (typeof (root._bokeh_onload_callbacks) === \"undefined\" || force === true) {\n    root._bokeh_onload_callbacks = [];\n    root._bokeh_is_loading = undefined;\n  }\n\n  \n\n  \n  if (typeof (root._bokeh_timeout) === \"undefined\" || force === true) {\n    root._bokeh_timeout = Date.now() + 5000;\n    root._bokeh_failed_load = false;\n  }\n\n  var NB_LOAD_WARNING = {'data': {'text/html':\n     \"<div style='background-color: #fdd'>\\n\"+\n     \"<p>\\n\"+\n     \"BokehJS does not appear to have successfully loaded. If loading BokehJS from CDN, this \\n\"+\n     \"may be due to a slow or bad network connection. Possible fixes:\\n\"+\n     \"</p>\\n\"+\n     \"<ul>\\n\"+\n     \"<li>re-rerun `output_notebook()` to attempt to load from CDN again, or</li>\\n\"+\n     \"<li>use INLINE resources instead, as so:</li>\\n\"+\n     \"</ul>\\n\"+\n     \"<code>\\n\"+\n     \"from bokeh.resources import INLINE\\n\"+\n     \"output_notebook(resources=INLINE)\\n\"+\n     \"</code>\\n\"+\n     \"</div>\"}};\n\n  function display_loaded() {\n    var el = document.getElementById(\"7bc90ec8-a953-496a-a3c5-8c2863a2e512\");\n    if (el != null) {\n      el.textContent = \"BokehJS is loading...\";\n    }\n    if (root.Bokeh !== undefined) {\n      if (el != null) {\n        el.textContent = \"BokehJS \" + root.Bokeh.version + \" successfully loaded.\";\n      }\n    } else if (Date.now() < root._bokeh_timeout) {\n      setTimeout(display_loaded, 100)\n    }\n  }\n\n\n  function run_callbacks() {\n    try {\n      root._bokeh_onload_callbacks.forEach(function(callback) { callback() });\n    }\n    finally {\n      delete root._bokeh_onload_callbacks\n    }\n    console.info(\"Bokeh: all callbacks have finished\");\n  }\n\n  function load_libs(js_urls, callback) {\n    root._bokeh_onload_callbacks.push(callback);\n    if (root._bokeh_is_loading > 0) {\n      console.log(\"Bokeh: BokehJS is being loaded, scheduling callback at\", now());\n      return null;\n    }\n    if (js_urls == null || js_urls.length === 0) {\n      run_callbacks();\n      return null;\n    }\n    console.log(\"Bokeh: BokehJS not loaded, scheduling load and callback at\", now());\n    root._bokeh_is_loading = js_urls.length;\n    for (var i = 0; i < js_urls.length; i++) {\n      var url = js_urls[i];\n      var s = document.createElement('script');\n      s.src = url;\n      s.async = false;\n      s.onreadystatechange = s.onload = function() {\n        root._bokeh_is_loading--;\n        if (root._bokeh_is_loading === 0) {\n          console.log(\"Bokeh: all BokehJS libraries loaded\");\n          run_callbacks()\n        }\n      };\n      s.onerror = function() {\n        console.warn(\"failed to load library \" + url);\n      };\n      console.log(\"Bokeh: injecting script tag for BokehJS library: \", url);\n      document.getElementsByTagName(\"head\")[0].appendChild(s);\n    }\n  };var element = document.getElementById(\"7bc90ec8-a953-496a-a3c5-8c2863a2e512\");\n  if (element == null) {\n    console.log(\"Bokeh: ERROR: autoload.js configured with elementid '7bc90ec8-a953-496a-a3c5-8c2863a2e512' but no matching script tag was found. \")\n    return false;\n  }\n\n  var js_urls = [\"https://cdn.pydata.org/bokeh/release/bokeh-0.13.0.min.js\", \"https://cdn.pydata.org/bokeh/release/bokeh-widgets-0.13.0.min.js\", \"https://cdn.pydata.org/bokeh/release/bokeh-tables-0.13.0.min.js\", \"https://cdn.pydata.org/bokeh/release/bokeh-gl-0.13.0.min.js\"];\n\n  var inline_js = [\n    function(Bokeh) {\n      Bokeh.set_log_level(\"info\");\n    },\n    \n    function(Bokeh) {\n      \n    },\n    function(Bokeh) {\n      console.log(\"Bokeh: injecting CSS: https://cdn.pydata.org/bokeh/release/bokeh-0.13.0.min.css\");\n      Bokeh.embed.inject_css(\"https://cdn.pydata.org/bokeh/release/bokeh-0.13.0.min.css\");\n      console.log(\"Bokeh: injecting CSS: https://cdn.pydata.org/bokeh/release/bokeh-widgets-0.13.0.min.css\");\n      Bokeh.embed.inject_css(\"https://cdn.pydata.org/bokeh/release/bokeh-widgets-0.13.0.min.css\");\n      console.log(\"Bokeh: injecting CSS: https://cdn.pydata.org/bokeh/release/bokeh-tables-0.13.0.min.css\");\n      Bokeh.embed.inject_css(\"https://cdn.pydata.org/bokeh/release/bokeh-tables-0.13.0.min.css\");\n    }\n  ];\n\n  function run_inline_js() {\n    \n    if ((root.Bokeh !== undefined) || (force === true)) {\n      for (var i = 0; i < inline_js.length; i++) {\n        inline_js[i].call(root, root.Bokeh);\n      }if (force === true) {\n        display_loaded();\n      }} else if (Date.now() < root._bokeh_timeout) {\n      setTimeout(run_inline_js, 100);\n    } else if (!root._bokeh_failed_load) {\n      console.log(\"Bokeh: BokehJS failed to load within specified timeout.\");\n      root._bokeh_failed_load = true;\n    } else if (force !== true) {\n      var cell = $(document.getElementById(\"7bc90ec8-a953-496a-a3c5-8c2863a2e512\")).parents('.cell').data().cell;\n      cell.output_area.append_execute_result(NB_LOAD_WARNING)\n    }\n\n  }\n\n  if (root._bokeh_is_loading === 0) {\n    console.log(\"Bokeh: BokehJS loaded, going straight to plotting\");\n    run_inline_js();\n  } else {\n    load_libs(js_urls, function() {\n      console.log(\"Bokeh: BokehJS plotting callback run at\", now());\n      run_inline_js();\n    });\n  }\n}(window));"
     },
     "metadata": {},
     "output_type": "display_data"
    }
   ],
   "source": [
    "from bokeh.io import push_notebook, show, output_notebook\n",
    "from bokeh.layouts import row\n",
    "from bokeh.plotting import figure\n",
    "output_notebook()"
   ]
  },
  {
   "cell_type": "code",
   "execution_count": 42,
   "metadata": {},
   "outputs": [],
   "source": [
    "opts = dict(plot_width=250, plot_height=250, min_border=0)\n"
   ]
  },
  {
   "cell_type": "code",
   "execution_count": 43,
   "metadata": {},
   "outputs": [
    {
     "data": {
      "text/html": [
       "\n",
       "\n",
       "\n",
       "\n",
       "\n",
       "\n",
       "  <div class=\"bk-root\" id=\"93e110c3-e719-46b2-9841-5ec6f8087125\"></div>\n"
      ]
     },
     "metadata": {},
     "output_type": "display_data"
    },
    {
     "data": {
      "application/javascript": [
       "(function(root) {\n",
       "  function embed_document(root) {\n",
       "    \n",
       "  var docs_json = {\"1db97693-8600-47b4-aee4-4b1b370db45d\":{\"roots\":{\"references\":[{\"attributes\":{},\"id\":\"0b2d59a8-f349-45c2-b053-4a0af164bea2\",\"type\":\"SaveTool\"},{\"attributes\":{},\"id\":\"74e535be-cc9d-4f9d-af63-b9686b9440da\",\"type\":\"Selection\"},{\"attributes\":{},\"id\":\"a235f663-c5d8-4ba1-a320-312930b9d2d3\",\"type\":\"ResetTool\"},{\"attributes\":{},\"id\":\"6d3972e9-1732-4ce3-a31c-4343c46f8515\",\"type\":\"HelpTool\"},{\"attributes\":{},\"id\":\"130b084e-f697-4517-9252-8e91313fa438\",\"type\":\"UnionRenderers\"},{\"attributes\":{\"bottom_units\":\"screen\",\"fill_alpha\":{\"value\":0.5},\"fill_color\":{\"value\":\"lightgrey\"},\"left_units\":\"screen\",\"level\":\"overlay\",\"line_alpha\":{\"value\":1.0},\"line_color\":{\"value\":\"black\"},\"line_dash\":[4,4],\"line_width\":{\"value\":2},\"plot\":null,\"render_mode\":\"css\",\"right_units\":\"screen\",\"top_units\":\"screen\"},\"id\":\"c4c493ee-f0b1-4ca9-b7dd-2b860e8b9792\",\"type\":\"BoxAnnotation\"},{\"attributes\":{\"fill_color\":{\"value\":\"#1f77b4\"},\"line_color\":{\"value\":\"#1f77b4\"},\"size\":{\"units\":\"screen\",\"value\":20},\"x\":{\"field\":\"x\"},\"y\":{\"field\":\"y\"}},\"id\":\"29e3415e-1bf9-4677-b21a-300367a1bcaf\",\"type\":\"Circle\"},{\"attributes\":{\"active_drag\":\"auto\",\"active_inspect\":\"auto\",\"active_multi\":null,\"active_scroll\":\"auto\",\"active_tap\":\"auto\",\"tools\":[{\"id\":\"4c95f5f2-ac83-4457-ba0e-4c5ab08d7f5b\",\"type\":\"PanTool\"},{\"id\":\"ea9e1c5b-00f4-43a7-a5e9-2522c105c996\",\"type\":\"WheelZoomTool\"},{\"id\":\"c64ac637-ba02-4bd9-a9c2-768572739943\",\"type\":\"BoxZoomTool\"},{\"id\":\"8bfeb83b-8edf-433f-b4d2-531d2f0a4a54\",\"type\":\"SaveTool\"},{\"id\":\"da577746-79e1-465b-958e-5d48b058565a\",\"type\":\"ResetTool\"},{\"id\":\"1badf5da-a753-4374-b4b8-9678b7e1e60f\",\"type\":\"HelpTool\"}]},\"id\":\"79ea3738-93b0-4761-9c0a-ebe7963b8b23\",\"type\":\"Toolbar\"},{\"attributes\":{\"callback\":null},\"id\":\"cc4c3607-b779-4ddd-a6c6-5100ae9b1115\",\"type\":\"DataRange1d\"},{\"attributes\":{\"callback\":null},\"id\":\"2fbd96e2-9fd8-42e2-8602-e261bf97bbf1\",\"type\":\"DataRange1d\"},{\"attributes\":{},\"id\":\"8ebbea0b-50ee-434f-b221-4c9381d2393b\",\"type\":\"LinearScale\"},{\"attributes\":{},\"id\":\"748fd2ca-071d-4596-adac-4dee98ae0128\",\"type\":\"LinearScale\"},{\"attributes\":{\"plot\":{\"id\":\"83d7617f-905b-45a3-999c-b60b9fe6e429\",\"subtype\":\"Figure\",\"type\":\"Plot\"},\"ticker\":{\"id\":\"e3fd12c6-70e4-43df-9924-63a540e602ff\",\"type\":\"BasicTicker\"}},\"id\":\"bfee2472-8562-48f2-aedb-1cf452f77ac3\",\"type\":\"Grid\"},{\"attributes\":{},\"id\":\"45b7e799-73f0-42e1-bfc3-dae8a6a1a0f9\",\"type\":\"BasicTicker\"},{\"attributes\":{\"formatter\":{\"id\":\"939fed72-676c-47c4-97fd-c354e86243ca\",\"type\":\"BasicTickFormatter\"},\"plot\":{\"id\":\"83d7617f-905b-45a3-999c-b60b9fe6e429\",\"subtype\":\"Figure\",\"type\":\"Plot\"},\"ticker\":{\"id\":\"e3fd12c6-70e4-43df-9924-63a540e602ff\",\"type\":\"BasicTicker\"}},\"id\":\"356efa86-4907-4d54-acc7-d246442e7245\",\"type\":\"LinearAxis\"},{\"attributes\":{},\"id\":\"e3fd12c6-70e4-43df-9924-63a540e602ff\",\"type\":\"BasicTicker\"},{\"attributes\":{\"plot\":null,\"text\":\"\"},\"id\":\"3f8805b6-1e41-4dfa-a1b6-067d77680459\",\"type\":\"Title\"},{\"attributes\":{\"formatter\":{\"id\":\"20458e66-c73b-459a-88fc-12e30e7b9bbe\",\"type\":\"BasicTickFormatter\"},\"plot\":{\"id\":\"83d7617f-905b-45a3-999c-b60b9fe6e429\",\"subtype\":\"Figure\",\"type\":\"Plot\"},\"ticker\":{\"id\":\"9a0a6f98-281f-493a-a981-3d01163e9c1c\",\"type\":\"BasicTicker\"}},\"id\":\"aa6b5658-5253-4b8c-981a-38bdd9e7c483\",\"type\":\"LinearAxis\"},{\"attributes\":{},\"id\":\"9a0a6f98-281f-493a-a981-3d01163e9c1c\",\"type\":\"BasicTicker\"},{\"attributes\":{\"dimension\":1,\"plot\":{\"id\":\"83d7617f-905b-45a3-999c-b60b9fe6e429\",\"subtype\":\"Figure\",\"type\":\"Plot\"},\"ticker\":{\"id\":\"9a0a6f98-281f-493a-a981-3d01163e9c1c\",\"type\":\"BasicTicker\"}},\"id\":\"ad7dbf4d-9c1c-4fd8-9c79-a8d490bbd3b4\",\"type\":\"Grid\"},{\"attributes\":{\"callback\":null,\"data\":{\"x\":[1,2,3],\"y\":[4,5,6]},\"selected\":{\"id\":\"368df1c4-638d-41c6-9760-a90e5821aa24\",\"type\":\"Selection\"},\"selection_policy\":{\"id\":\"6473007c-e4e9-4f93-bbbb-804eabc1cf47\",\"type\":\"UnionRenderers\"}},\"id\":\"a17446a9-52f2-43d8-b43b-081f7261b157\",\"type\":\"ColumnDataSource\"},{\"attributes\":{\"fill_alpha\":{\"value\":0.1},\"fill_color\":{\"value\":\"#1f77b4\"},\"line_alpha\":{\"value\":0.1},\"line_color\":{\"value\":\"#1f77b4\"},\"size\":{\"units\":\"screen\",\"value\":20},\"x\":{\"field\":\"x\"},\"y\":{\"field\":\"y\"}},\"id\":\"4d8e3363-9f89-4526-a78a-3c0178e06858\",\"type\":\"Circle\"},{\"attributes\":{\"below\":[{\"id\":\"c28d48d5-2faf-4f98-af60-d7095b435ad1\",\"type\":\"LinearAxis\"}],\"left\":[{\"id\":\"ee52744b-62b7-4fa8-a9de-411b0579053b\",\"type\":\"LinearAxis\"}],\"min_border\":0,\"plot_height\":250,\"plot_width\":250,\"renderers\":[{\"id\":\"c28d48d5-2faf-4f98-af60-d7095b435ad1\",\"type\":\"LinearAxis\"},{\"id\":\"20973097-1d01-47e5-a062-c1bae141c7d1\",\"type\":\"Grid\"},{\"id\":\"ee52744b-62b7-4fa8-a9de-411b0579053b\",\"type\":\"LinearAxis\"},{\"id\":\"1e50fd52-b30c-48a9-a477-0d7c35291bc8\",\"type\":\"Grid\"},{\"id\":\"c4c493ee-f0b1-4ca9-b7dd-2b860e8b9792\",\"type\":\"BoxAnnotation\"},{\"id\":\"52972356-0bbb-4edf-abc7-abeb1ad0e9b1\",\"type\":\"GlyphRenderer\"}],\"title\":{\"id\":\"3f8805b6-1e41-4dfa-a1b6-067d77680459\",\"type\":\"Title\"},\"toolbar\":{\"id\":\"841d283c-0464-4359-b8b0-cadfb51ee80f\",\"type\":\"Toolbar\"},\"x_range\":{\"id\":\"b0a53cf1-c0bf-4f6e-8a57-5db464a68631\",\"type\":\"DataRange1d\"},\"x_scale\":{\"id\":\"d3edf60c-45c4-487e-9bdb-dac8094dade0\",\"type\":\"LinearScale\"},\"y_range\":{\"id\":\"625b3215-535e-421e-9259-31342df8a23d\",\"type\":\"DataRange1d\"},\"y_scale\":{\"id\":\"9686416e-b721-4280-8d9a-3f03d5cb26e4\",\"type\":\"LinearScale\"}},\"id\":\"44f64b49-7c3f-4cd7-ace9-9a7d7529becd\",\"subtype\":\"Figure\",\"type\":\"Plot\"},{\"attributes\":{\"data_source\":{\"id\":\"a17446a9-52f2-43d8-b43b-081f7261b157\",\"type\":\"ColumnDataSource\"},\"glyph\":{\"id\":\"cb456dca-ace4-413d-98a3-c3c64b3f0b19\",\"type\":\"Circle\"},\"hover_glyph\":null,\"muted_glyph\":null,\"nonselection_glyph\":{\"id\":\"41a177ab-974d-40b1-87a0-2887a9e7b76e\",\"type\":\"Circle\"},\"selection_glyph\":null,\"view\":{\"id\":\"41ece4b0-c29d-42c2-bd03-c106821e1517\",\"type\":\"CDSView\"}},\"id\":\"52972356-0bbb-4edf-abc7-abeb1ad0e9b1\",\"type\":\"GlyphRenderer\"},{\"attributes\":{\"children\":[{\"id\":\"44f64b49-7c3f-4cd7-ace9-9a7d7529becd\",\"subtype\":\"Figure\",\"type\":\"Plot\"},{\"id\":\"83d7617f-905b-45a3-999c-b60b9fe6e429\",\"subtype\":\"Figure\",\"type\":\"Plot\"}]},\"id\":\"e06d5a10-ca55-47ec-b062-e65ca1066325\",\"type\":\"Row\"},{\"attributes\":{\"active_drag\":\"auto\",\"active_inspect\":\"auto\",\"active_multi\":null,\"active_scroll\":\"auto\",\"active_tap\":\"auto\",\"tools\":[{\"id\":\"6b8c1e5f-23a9-472d-9737-966d6c48cada\",\"type\":\"PanTool\"},{\"id\":\"7cd6fe2e-b6b9-4320-b68d-ad7ac1d29fd7\",\"type\":\"WheelZoomTool\"},{\"id\":\"cfa83dc7-2d47-4c7c-a19b-bb5f6d6ba9e9\",\"type\":\"BoxZoomTool\"},{\"id\":\"0b2d59a8-f349-45c2-b053-4a0af164bea2\",\"type\":\"SaveTool\"},{\"id\":\"a235f663-c5d8-4ba1-a320-312930b9d2d3\",\"type\":\"ResetTool\"},{\"id\":\"6d3972e9-1732-4ce3-a31c-4343c46f8515\",\"type\":\"HelpTool\"}]},\"id\":\"841d283c-0464-4359-b8b0-cadfb51ee80f\",\"type\":\"Toolbar\"},{\"attributes\":{\"callback\":null},\"id\":\"b0a53cf1-c0bf-4f6e-8a57-5db464a68631\",\"type\":\"DataRange1d\"},{\"attributes\":{},\"id\":\"4c95f5f2-ac83-4457-ba0e-4c5ab08d7f5b\",\"type\":\"PanTool\"},{\"attributes\":{\"dimension\":1,\"plot\":{\"id\":\"44f64b49-7c3f-4cd7-ace9-9a7d7529becd\",\"subtype\":\"Figure\",\"type\":\"Plot\"},\"ticker\":{\"id\":\"45b7e799-73f0-42e1-bfc3-dae8a6a1a0f9\",\"type\":\"BasicTicker\"}},\"id\":\"1e50fd52-b30c-48a9-a477-0d7c35291bc8\",\"type\":\"Grid\"},{\"attributes\":{\"source\":{\"id\":\"74c2266a-1483-40e4-9dd9-11835ccf2346\",\"type\":\"ColumnDataSource\"}},\"id\":\"0dd5cc9d-f7d9-4573-8e3d-2b69a5b84822\",\"type\":\"CDSView\"},{\"attributes\":{\"callback\":null},\"id\":\"625b3215-535e-421e-9259-31342df8a23d\",\"type\":\"DataRange1d\"},{\"attributes\":{},\"id\":\"ea9e1c5b-00f4-43a7-a5e9-2522c105c996\",\"type\":\"WheelZoomTool\"},{\"attributes\":{},\"id\":\"d3edf60c-45c4-487e-9bdb-dac8094dade0\",\"type\":\"LinearScale\"},{\"attributes\":{\"overlay\":{\"id\":\"3876a112-c1f5-4032-8b64-dbf2c5e1fc69\",\"type\":\"BoxAnnotation\"}},\"id\":\"c64ac637-ba02-4bd9-a9c2-768572739943\",\"type\":\"BoxZoomTool\"},{\"attributes\":{},\"id\":\"9686416e-b721-4280-8d9a-3f03d5cb26e4\",\"type\":\"LinearScale\"},{\"attributes\":{},\"id\":\"8bfeb83b-8edf-433f-b4d2-531d2f0a4a54\",\"type\":\"SaveTool\"},{\"attributes\":{\"fill_color\":{\"value\":\"#1f77b4\"},\"line_color\":{\"value\":\"#1f77b4\"},\"size\":{\"units\":\"screen\",\"value\":20},\"x\":{\"field\":\"x\"},\"y\":{\"field\":\"y\"}},\"id\":\"cb456dca-ace4-413d-98a3-c3c64b3f0b19\",\"type\":\"Circle\"},{\"attributes\":{},\"id\":\"da577746-79e1-465b-958e-5d48b058565a\",\"type\":\"ResetTool\"},{\"attributes\":{\"formatter\":{\"id\":\"2ff8b4a9-55b3-4bcd-a5e2-ce628f14cfa3\",\"type\":\"BasicTickFormatter\"},\"plot\":{\"id\":\"44f64b49-7c3f-4cd7-ace9-9a7d7529becd\",\"subtype\":\"Figure\",\"type\":\"Plot\"},\"ticker\":{\"id\":\"c80a0fc7-ddad-4f01-aa5f-e50e00f724bf\",\"type\":\"BasicTicker\"}},\"id\":\"c28d48d5-2faf-4f98-af60-d7095b435ad1\",\"type\":\"LinearAxis\"},{\"attributes\":{},\"id\":\"1badf5da-a753-4374-b4b8-9678b7e1e60f\",\"type\":\"HelpTool\"},{\"attributes\":{},\"id\":\"c80a0fc7-ddad-4f01-aa5f-e50e00f724bf\",\"type\":\"BasicTicker\"},{\"attributes\":{\"bottom_units\":\"screen\",\"fill_alpha\":{\"value\":0.5},\"fill_color\":{\"value\":\"lightgrey\"},\"left_units\":\"screen\",\"level\":\"overlay\",\"line_alpha\":{\"value\":1.0},\"line_color\":{\"value\":\"black\"},\"line_dash\":[4,4],\"line_width\":{\"value\":2},\"plot\":null,\"render_mode\":\"css\",\"right_units\":\"screen\",\"top_units\":\"screen\"},\"id\":\"3876a112-c1f5-4032-8b64-dbf2c5e1fc69\",\"type\":\"BoxAnnotation\"},{\"attributes\":{\"formatter\":{\"id\":\"3feb9561-0061-4ef0-ba5d-f0a049e759cd\",\"type\":\"BasicTickFormatter\"},\"plot\":{\"id\":\"44f64b49-7c3f-4cd7-ace9-9a7d7529becd\",\"subtype\":\"Figure\",\"type\":\"Plot\"},\"ticker\":{\"id\":\"45b7e799-73f0-42e1-bfc3-dae8a6a1a0f9\",\"type\":\"BasicTicker\"}},\"id\":\"ee52744b-62b7-4fa8-a9de-411b0579053b\",\"type\":\"LinearAxis\"},{\"attributes\":{\"plot\":null,\"text\":\"\"},\"id\":\"b5e386aa-83da-4910-a4c0-b5e97a1bf986\",\"type\":\"Title\"},{\"attributes\":{\"fill_alpha\":{\"value\":0.1},\"fill_color\":{\"value\":\"#1f77b4\"},\"line_alpha\":{\"value\":0.1},\"line_color\":{\"value\":\"#1f77b4\"},\"size\":{\"units\":\"screen\",\"value\":20},\"x\":{\"field\":\"x\"},\"y\":{\"field\":\"y\"}},\"id\":\"41a177ab-974d-40b1-87a0-2887a9e7b76e\",\"type\":\"Circle\"},{\"attributes\":{},\"id\":\"939fed72-676c-47c4-97fd-c354e86243ca\",\"type\":\"BasicTickFormatter\"},{\"attributes\":{\"data_source\":{\"id\":\"74c2266a-1483-40e4-9dd9-11835ccf2346\",\"type\":\"ColumnDataSource\"},\"glyph\":{\"id\":\"29e3415e-1bf9-4677-b21a-300367a1bcaf\",\"type\":\"Circle\"},\"hover_glyph\":null,\"muted_glyph\":null,\"nonselection_glyph\":{\"id\":\"4d8e3363-9f89-4526-a78a-3c0178e06858\",\"type\":\"Circle\"},\"selection_glyph\":null,\"view\":{\"id\":\"0dd5cc9d-f7d9-4573-8e3d-2b69a5b84822\",\"type\":\"CDSView\"}},\"id\":\"c877197c-25e2-4c32-8f70-b3cdae91b6d0\",\"type\":\"GlyphRenderer\"},{\"attributes\":{\"plot\":{\"id\":\"44f64b49-7c3f-4cd7-ace9-9a7d7529becd\",\"subtype\":\"Figure\",\"type\":\"Plot\"},\"ticker\":{\"id\":\"c80a0fc7-ddad-4f01-aa5f-e50e00f724bf\",\"type\":\"BasicTicker\"}},\"id\":\"20973097-1d01-47e5-a062-c1bae141c7d1\",\"type\":\"Grid\"},{\"attributes\":{\"below\":[{\"id\":\"356efa86-4907-4d54-acc7-d246442e7245\",\"type\":\"LinearAxis\"}],\"left\":[{\"id\":\"aa6b5658-5253-4b8c-981a-38bdd9e7c483\",\"type\":\"LinearAxis\"}],\"min_border\":0,\"plot_height\":250,\"plot_width\":250,\"renderers\":[{\"id\":\"356efa86-4907-4d54-acc7-d246442e7245\",\"type\":\"LinearAxis\"},{\"id\":\"bfee2472-8562-48f2-aedb-1cf452f77ac3\",\"type\":\"Grid\"},{\"id\":\"aa6b5658-5253-4b8c-981a-38bdd9e7c483\",\"type\":\"LinearAxis\"},{\"id\":\"ad7dbf4d-9c1c-4fd8-9c79-a8d490bbd3b4\",\"type\":\"Grid\"},{\"id\":\"3876a112-c1f5-4032-8b64-dbf2c5e1fc69\",\"type\":\"BoxAnnotation\"},{\"id\":\"c877197c-25e2-4c32-8f70-b3cdae91b6d0\",\"type\":\"GlyphRenderer\"}],\"title\":{\"id\":\"b5e386aa-83da-4910-a4c0-b5e97a1bf986\",\"type\":\"Title\"},\"toolbar\":{\"id\":\"79ea3738-93b0-4761-9c0a-ebe7963b8b23\",\"type\":\"Toolbar\"},\"x_range\":{\"id\":\"cc4c3607-b779-4ddd-a6c6-5100ae9b1115\",\"type\":\"DataRange1d\"},\"x_scale\":{\"id\":\"8ebbea0b-50ee-434f-b221-4c9381d2393b\",\"type\":\"LinearScale\"},\"y_range\":{\"id\":\"2fbd96e2-9fd8-42e2-8602-e261bf97bbf1\",\"type\":\"DataRange1d\"},\"y_scale\":{\"id\":\"748fd2ca-071d-4596-adac-4dee98ae0128\",\"type\":\"LinearScale\"}},\"id\":\"83d7617f-905b-45a3-999c-b60b9fe6e429\",\"subtype\":\"Figure\",\"type\":\"Plot\"},{\"attributes\":{},\"id\":\"2ff8b4a9-55b3-4bcd-a5e2-ce628f14cfa3\",\"type\":\"BasicTickFormatter\"},{\"attributes\":{\"callback\":null,\"data\":{\"x\":[1,2,3],\"y\":[4,5,6]},\"selected\":{\"id\":\"74e535be-cc9d-4f9d-af63-b9686b9440da\",\"type\":\"Selection\"},\"selection_policy\":{\"id\":\"130b084e-f697-4517-9252-8e91313fa438\",\"type\":\"UnionRenderers\"}},\"id\":\"74c2266a-1483-40e4-9dd9-11835ccf2346\",\"type\":\"ColumnDataSource\"},{\"attributes\":{},\"id\":\"3feb9561-0061-4ef0-ba5d-f0a049e759cd\",\"type\":\"BasicTickFormatter\"},{\"attributes\":{},\"id\":\"6b8c1e5f-23a9-472d-9737-966d6c48cada\",\"type\":\"PanTool\"},{\"attributes\":{},\"id\":\"20458e66-c73b-459a-88fc-12e30e7b9bbe\",\"type\":\"BasicTickFormatter\"},{\"attributes\":{\"source\":{\"id\":\"a17446a9-52f2-43d8-b43b-081f7261b157\",\"type\":\"ColumnDataSource\"}},\"id\":\"41ece4b0-c29d-42c2-bd03-c106821e1517\",\"type\":\"CDSView\"},{\"attributes\":{},\"id\":\"368df1c4-638d-41c6-9760-a90e5821aa24\",\"type\":\"Selection\"},{\"attributes\":{},\"id\":\"7cd6fe2e-b6b9-4320-b68d-ad7ac1d29fd7\",\"type\":\"WheelZoomTool\"},{\"attributes\":{},\"id\":\"6473007c-e4e9-4f93-bbbb-804eabc1cf47\",\"type\":\"UnionRenderers\"},{\"attributes\":{\"overlay\":{\"id\":\"c4c493ee-f0b1-4ca9-b7dd-2b860e8b9792\",\"type\":\"BoxAnnotation\"}},\"id\":\"cfa83dc7-2d47-4c7c-a19b-bb5f6d6ba9e9\",\"type\":\"BoxZoomTool\"}],\"root_ids\":[\"e06d5a10-ca55-47ec-b062-e65ca1066325\"]},\"title\":\"Bokeh Application\",\"version\":\"0.13.0\"}};\n",
       "  var render_items = [{\"docid\":\"1db97693-8600-47b4-aee4-4b1b370db45d\",\"notebook_comms_target\":\"ce2b9e81-e511-4c7c-bb16-54909a2e0ede\",\"roots\":{\"e06d5a10-ca55-47ec-b062-e65ca1066325\":\"93e110c3-e719-46b2-9841-5ec6f8087125\"}}];\n",
       "  root.Bokeh.embed.embed_items_notebook(docs_json, render_items);\n",
       "\n",
       "  }\n",
       "  if (root.Bokeh !== undefined) {\n",
       "    embed_document(root);\n",
       "  } else {\n",
       "    var attempts = 0;\n",
       "    var timer = setInterval(function(root) {\n",
       "      if (root.Bokeh !== undefined) {\n",
       "        embed_document(root);\n",
       "        clearInterval(timer);\n",
       "      }\n",
       "      attempts++;\n",
       "      if (attempts > 100) {\n",
       "        console.log(\"Bokeh: ERROR: Unable to run BokehJS code because BokehJS library is missing\")\n",
       "        clearInterval(timer);\n",
       "      }\n",
       "    }, 10, root)\n",
       "  }\n",
       "})(window);"
      ],
      "application/vnd.bokehjs_exec.v0+json": ""
     },
     "metadata": {
      "application/vnd.bokehjs_exec.v0+json": {
       "id": "e06d5a10-ca55-47ec-b062-e65ca1066325"
      }
     },
     "output_type": "display_data"
    }
   ],
   "source": [
    "p1 = figure(**opts)\n",
    "r1 = p1.circle([1,2,3], [4,5,6], size=20)\n",
    "\n",
    "p2 = figure(**opts)\n",
    "r2 = p2.circle([1,2,3], [4,5,6], size=20)\n",
    "\n",
    "# get a handle to update the shown cell with\n",
    "t = show(row(p1, p2), notebook_handle=True)\n"
   ]
  },
  {
   "cell_type": "code",
   "execution_count": 44,
   "metadata": {},
   "outputs": [
    {
     "data": {
      "text/html": [
       "<p><code>&lt;Bokeh Notebook handle for <strong>In[43]</strong>&gt;</code></p>"
      ],
      "text/plain": [
       "<bokeh.io.notebook.CommsHandle at 0x7f6ee857c128>"
      ]
     },
     "execution_count": 44,
     "metadata": {},
     "output_type": "execute_result"
    }
   ],
   "source": [
    "# the comms handle repr show what cell it can be used to update\n",
    "t"
   ]
  },
  {
   "cell_type": "code",
   "execution_count": 45,
   "metadata": {},
   "outputs": [],
   "source": [
    "# this will update the left plot circle color with an explicit handle\n",
    "r1.glyph.fill_color = \"white\"\n",
    "push_notebook(handle=t)"
   ]
  },
  {
   "cell_type": "code",
   "execution_count": 46,
   "metadata": {},
   "outputs": [],
   "source": [
    "# and this will update the right plot circle color because it was in the last shown cell\n",
    "r2.glyph.fill_color = \"pink\"\n",
    "push_notebook()"
   ]
  },
  {
   "cell_type": "code",
   "execution_count": 47,
   "metadata": {},
   "outputs": [
    {
     "data": {
      "text/html": [
       "\n",
       "\n",
       "\n",
       "\n",
       "\n",
       "\n",
       "  <div class=\"bk-root\" id=\"c6ea7639-78ca-44f3-91bc-541b28268184\"></div>\n"
      ]
     },
     "metadata": {},
     "output_type": "display_data"
    },
    {
     "data": {
      "application/javascript": [
       "(function(root) {\n",
       "  function embed_document(root) {\n",
       "    \n",
       "  var docs_json = {\"1aabf169-7ab6-49eb-92b6-210db44b9139\":{\"roots\":{\"references\":[{\"attributes\":{},\"id\":\"4a615611-dec9-4115-b79f-6411e3538c5d\",\"type\":\"UnionRenderers\"},{\"attributes\":{\"callback\":null},\"id\":\"7d94b40e-241b-4575-accf-47e389e0f4b3\",\"type\":\"DataRange1d\"},{\"attributes\":{\"overlay\":{\"id\":\"26b26b4a-2cd0-4eb7-a6cd-31007948bb5e\",\"type\":\"BoxAnnotation\"}},\"id\":\"3104514f-4aeb-4cff-abf5-73ac9917ed45\",\"type\":\"BoxZoomTool\"},{\"attributes\":{},\"id\":\"c0674f69-0584-4d6d-b4a9-d502bbf5ad7d\",\"type\":\"PanTool\"},{\"attributes\":{},\"id\":\"6e541d49-c93a-4bda-ace1-41a4ee34baa4\",\"type\":\"LinearScale\"},{\"attributes\":{},\"id\":\"ecfac0cc-93da-4c65-a01b-c53181d5edfb\",\"type\":\"BasicTickFormatter\"},{\"attributes\":{},\"id\":\"9fd0f6f0-b7d2-4808-a5aa-ce21f22d0b40\",\"type\":\"WheelZoomTool\"},{\"attributes\":{\"plot\":null,\"text\":\"\"},\"id\":\"30a45cae-ed7a-45a8-966e-5f26e30f8dae\",\"type\":\"Title\"},{\"attributes\":{\"source\":{\"id\":\"43f08374-37f3-4ad7-96e5-aa982b25cf16\",\"type\":\"ColumnDataSource\"}},\"id\":\"fe1261a0-156e-4a32-b043-72fadf592ad4\",\"type\":\"CDSView\"},{\"attributes\":{},\"id\":\"d3284f1a-3430-4e8b-a2f1-fb13327598b9\",\"type\":\"Selection\"},{\"attributes\":{\"fill_alpha\":{\"value\":0.1},\"fill_color\":{\"value\":\"#1f77b4\"},\"line_alpha\":{\"value\":0.1},\"line_color\":{\"value\":\"#1f77b4\"},\"size\":{\"units\":\"screen\",\"value\":20},\"x\":{\"field\":\"x\"},\"y\":{\"field\":\"y\"}},\"id\":\"15bead99-3a7c-4e0b-bc5c-c6f9dd220ca2\",\"type\":\"Circle\"},{\"attributes\":{\"fill_color\":{\"value\":\"#1f77b4\"},\"line_color\":{\"value\":\"#1f77b4\"},\"size\":{\"units\":\"screen\",\"value\":20},\"x\":{\"field\":\"x\"},\"y\":{\"field\":\"y\"}},\"id\":\"d620d9d9-1a72-450e-bbc2-c7ffbecd8a8a\",\"type\":\"Circle\"},{\"attributes\":{},\"id\":\"4d252009-cc59-4d66-bba2-ab807075f2b7\",\"type\":\"LinearScale\"},{\"attributes\":{\"data_source\":{\"id\":\"43f08374-37f3-4ad7-96e5-aa982b25cf16\",\"type\":\"ColumnDataSource\"},\"glyph\":{\"id\":\"d620d9d9-1a72-450e-bbc2-c7ffbecd8a8a\",\"type\":\"Circle\"},\"hover_glyph\":null,\"muted_glyph\":null,\"nonselection_glyph\":{\"id\":\"15bead99-3a7c-4e0b-bc5c-c6f9dd220ca2\",\"type\":\"Circle\"},\"selection_glyph\":null,\"view\":{\"id\":\"fe1261a0-156e-4a32-b043-72fadf592ad4\",\"type\":\"CDSView\"}},\"id\":\"a484af02-0e4d-4ad5-a7a8-d31c9c211ebe\",\"type\":\"GlyphRenderer\"},{\"attributes\":{\"dimension\":1,\"plot\":{\"id\":\"550df0df-3dd3-40b6-9bd0-02a0dc6829c4\",\"subtype\":\"Figure\",\"type\":\"Plot\"},\"ticker\":{\"id\":\"3c0766fb-7424-4feb-b4dc-6db61cee5733\",\"type\":\"BasicTicker\"}},\"id\":\"a965390a-4ad9-40a0-97b2-53fc940d1361\",\"type\":\"Grid\"},{\"attributes\":{},\"id\":\"fa6df5ad-232e-46ff-b36d-1cdb7150ec5d\",\"type\":\"BasicTickFormatter\"},{\"attributes\":{\"plot\":{\"id\":\"550df0df-3dd3-40b6-9bd0-02a0dc6829c4\",\"subtype\":\"Figure\",\"type\":\"Plot\"},\"ticker\":{\"id\":\"10bdfdb2-df2b-4eae-ad7a-a87b2c53b2a4\",\"type\":\"BasicTicker\"}},\"id\":\"5481bd34-9be5-4662-aee7-c7f7c17e2aa9\",\"type\":\"Grid\"},{\"attributes\":{\"active_drag\":\"auto\",\"active_inspect\":\"auto\",\"active_multi\":null,\"active_scroll\":\"auto\",\"active_tap\":\"auto\",\"tools\":[{\"id\":\"c0674f69-0584-4d6d-b4a9-d502bbf5ad7d\",\"type\":\"PanTool\"},{\"id\":\"9fd0f6f0-b7d2-4808-a5aa-ce21f22d0b40\",\"type\":\"WheelZoomTool\"},{\"id\":\"3104514f-4aeb-4cff-abf5-73ac9917ed45\",\"type\":\"BoxZoomTool\"},{\"id\":\"f2c367c1-33a5-46ec-a076-592b235d073b\",\"type\":\"SaveTool\"},{\"id\":\"d8c8d83e-7ef3-4ec3-845c-5a882d8d999a\",\"type\":\"ResetTool\"},{\"id\":\"63829518-7dd3-4c65-8865-cbf5bf7c0d41\",\"type\":\"HelpTool\"}]},\"id\":\"910b3187-07bc-4a06-81c2-bd1ea167f020\",\"type\":\"Toolbar\"},{\"attributes\":{},\"id\":\"d8c8d83e-7ef3-4ec3-845c-5a882d8d999a\",\"type\":\"ResetTool\"},{\"attributes\":{},\"id\":\"3c0766fb-7424-4feb-b4dc-6db61cee5733\",\"type\":\"BasicTicker\"},{\"attributes\":{\"bottom_units\":\"screen\",\"fill_alpha\":{\"value\":0.5},\"fill_color\":{\"value\":\"lightgrey\"},\"left_units\":\"screen\",\"level\":\"overlay\",\"line_alpha\":{\"value\":1.0},\"line_color\":{\"value\":\"black\"},\"line_dash\":[4,4],\"line_width\":{\"value\":2},\"plot\":null,\"render_mode\":\"css\",\"right_units\":\"screen\",\"top_units\":\"screen\"},\"id\":\"26b26b4a-2cd0-4eb7-a6cd-31007948bb5e\",\"type\":\"BoxAnnotation\"},{\"attributes\":{\"formatter\":{\"id\":\"fa6df5ad-232e-46ff-b36d-1cdb7150ec5d\",\"type\":\"BasicTickFormatter\"},\"plot\":{\"id\":\"550df0df-3dd3-40b6-9bd0-02a0dc6829c4\",\"subtype\":\"Figure\",\"type\":\"Plot\"},\"ticker\":{\"id\":\"3c0766fb-7424-4feb-b4dc-6db61cee5733\",\"type\":\"BasicTicker\"}},\"id\":\"7c52b747-df06-46cf-b33d-2e89b2eafb2e\",\"type\":\"LinearAxis\"},{\"attributes\":{},\"id\":\"63829518-7dd3-4c65-8865-cbf5bf7c0d41\",\"type\":\"HelpTool\"},{\"attributes\":{},\"id\":\"10bdfdb2-df2b-4eae-ad7a-a87b2c53b2a4\",\"type\":\"BasicTicker\"},{\"attributes\":{\"callback\":null,\"data\":{\"x\":[1,2,3],\"y\":[4,5,6]},\"selected\":{\"id\":\"d3284f1a-3430-4e8b-a2f1-fb13327598b9\",\"type\":\"Selection\"},\"selection_policy\":{\"id\":\"4a615611-dec9-4115-b79f-6411e3538c5d\",\"type\":\"UnionRenderers\"}},\"id\":\"43f08374-37f3-4ad7-96e5-aa982b25cf16\",\"type\":\"ColumnDataSource\"},{\"attributes\":{},\"id\":\"f2c367c1-33a5-46ec-a076-592b235d073b\",\"type\":\"SaveTool\"},{\"attributes\":{\"formatter\":{\"id\":\"ecfac0cc-93da-4c65-a01b-c53181d5edfb\",\"type\":\"BasicTickFormatter\"},\"plot\":{\"id\":\"550df0df-3dd3-40b6-9bd0-02a0dc6829c4\",\"subtype\":\"Figure\",\"type\":\"Plot\"},\"ticker\":{\"id\":\"10bdfdb2-df2b-4eae-ad7a-a87b2c53b2a4\",\"type\":\"BasicTicker\"}},\"id\":\"f2002aa0-d071-4d8f-a761-b34fd0d9585c\",\"type\":\"LinearAxis\"},{\"attributes\":{\"callback\":null},\"id\":\"9258f125-1234-4641-b23c-5773c307b846\",\"type\":\"DataRange1d\"},{\"attributes\":{\"below\":[{\"id\":\"f2002aa0-d071-4d8f-a761-b34fd0d9585c\",\"type\":\"LinearAxis\"}],\"left\":[{\"id\":\"7c52b747-df06-46cf-b33d-2e89b2eafb2e\",\"type\":\"LinearAxis\"}],\"min_border\":0,\"plot_height\":250,\"plot_width\":250,\"renderers\":[{\"id\":\"f2002aa0-d071-4d8f-a761-b34fd0d9585c\",\"type\":\"LinearAxis\"},{\"id\":\"5481bd34-9be5-4662-aee7-c7f7c17e2aa9\",\"type\":\"Grid\"},{\"id\":\"7c52b747-df06-46cf-b33d-2e89b2eafb2e\",\"type\":\"LinearAxis\"},{\"id\":\"a965390a-4ad9-40a0-97b2-53fc940d1361\",\"type\":\"Grid\"},{\"id\":\"26b26b4a-2cd0-4eb7-a6cd-31007948bb5e\",\"type\":\"BoxAnnotation\"},{\"id\":\"a484af02-0e4d-4ad5-a7a8-d31c9c211ebe\",\"type\":\"GlyphRenderer\"}],\"title\":{\"id\":\"30a45cae-ed7a-45a8-966e-5f26e30f8dae\",\"type\":\"Title\"},\"toolbar\":{\"id\":\"910b3187-07bc-4a06-81c2-bd1ea167f020\",\"type\":\"Toolbar\"},\"x_range\":{\"id\":\"7d94b40e-241b-4575-accf-47e389e0f4b3\",\"type\":\"DataRange1d\"},\"x_scale\":{\"id\":\"4d252009-cc59-4d66-bba2-ab807075f2b7\",\"type\":\"LinearScale\"},\"y_range\":{\"id\":\"9258f125-1234-4641-b23c-5773c307b846\",\"type\":\"DataRange1d\"},\"y_scale\":{\"id\":\"6e541d49-c93a-4bda-ace1-41a4ee34baa4\",\"type\":\"LinearScale\"}},\"id\":\"550df0df-3dd3-40b6-9bd0-02a0dc6829c4\",\"subtype\":\"Figure\",\"type\":\"Plot\"}],\"root_ids\":[\"550df0df-3dd3-40b6-9bd0-02a0dc6829c4\"]},\"title\":\"Bokeh Application\",\"version\":\"0.13.0\"}};\n",
       "  var render_items = [{\"docid\":\"1aabf169-7ab6-49eb-92b6-210db44b9139\",\"notebook_comms_target\":\"79f5b8a9-d7fc-46e4-87a5-4868c14c12d1\",\"roots\":{\"550df0df-3dd3-40b6-9bd0-02a0dc6829c4\":\"c6ea7639-78ca-44f3-91bc-541b28268184\"}}];\n",
       "  root.Bokeh.embed.embed_items_notebook(docs_json, render_items);\n",
       "\n",
       "  }\n",
       "  if (root.Bokeh !== undefined) {\n",
       "    embed_document(root);\n",
       "  } else {\n",
       "    var attempts = 0;\n",
       "    var timer = setInterval(function(root) {\n",
       "      if (root.Bokeh !== undefined) {\n",
       "        embed_document(root);\n",
       "        clearInterval(timer);\n",
       "      }\n",
       "      attempts++;\n",
       "      if (attempts > 100) {\n",
       "        console.log(\"Bokeh: ERROR: Unable to run BokehJS code because BokehJS library is missing\")\n",
       "        clearInterval(timer);\n",
       "      }\n",
       "    }, 10, root)\n",
       "  }\n",
       "})(window);"
      ],
      "application/vnd.bokehjs_exec.v0+json": ""
     },
     "metadata": {
      "application/vnd.bokehjs_exec.v0+json": {
       "id": "550df0df-3dd3-40b6-9bd0-02a0dc6829c4"
      }
     },
     "output_type": "display_data"
    }
   ],
   "source": [
    "p3 = figure(**opts)\n",
    "r3 = p3.circle([1,2,3], [4,5,6], size=20)\n",
    "\n",
    "# get a handle to update the shown cell with\n",
    "t2 = show(p3, notebook_handle=True)"
   ]
  },
  {
   "cell_type": "code",
   "execution_count": 48,
   "metadata": {},
   "outputs": [
    {
     "data": {
      "text/html": [
       "<p><code>&lt;Bokeh Notebook handle for <strong>In[47]</strong>&gt;</code></p>"
      ],
      "text/plain": [
       "<bokeh.io.notebook.CommsHandle at 0x7f6ee8651160>"
      ]
     },
     "execution_count": 48,
     "metadata": {},
     "output_type": "execute_result"
    }
   ],
   "source": [
    "# show which cell t2 handles\n",
    "t2"
   ]
  },
  {
   "cell_type": "code",
   "execution_count": 49,
   "metadata": {},
   "outputs": [],
   "source": [
    "# this updates the immediately previous cell with an explicit handle\n",
    "r3.glyph.fill_color = \"orange\"\n",
    "push_notebook(handle=t2)"
   ]
  },
  {
   "cell_type": "code",
   "execution_count": 50,
   "metadata": {},
   "outputs": [
    {
     "data": {
      "text/html": [
       "\n",
       "\n",
       "\n",
       "\n",
       "\n",
       "\n",
       "  <div class=\"bk-root\" id=\"4a2bc334-83b6-4278-9385-1a20bd012004\"></div>\n"
      ]
     },
     "metadata": {},
     "output_type": "display_data"
    },
    {
     "data": {
      "application/javascript": [
       "(function(root) {\n",
       "  function embed_document(root) {\n",
       "    \n",
       "  var docs_json = {\"d460c589-5156-466a-a8d3-ff2f6f61c14b\":{\"roots\":{\"references\":[{\"attributes\":{},\"id\":\"74e535be-cc9d-4f9d-af63-b9686b9440da\",\"type\":\"Selection\"},{\"attributes\":{},\"id\":\"4c95f5f2-ac83-4457-ba0e-4c5ab08d7f5b\",\"type\":\"PanTool\"},{\"attributes\":{},\"id\":\"130b084e-f697-4517-9252-8e91313fa438\",\"type\":\"UnionRenderers\"},{\"attributes\":{\"source\":{\"id\":\"74c2266a-1483-40e4-9dd9-11835ccf2346\",\"type\":\"ColumnDataSource\"}},\"id\":\"0dd5cc9d-f7d9-4573-8e3d-2b69a5b84822\",\"type\":\"CDSView\"},{\"attributes\":{},\"id\":\"ea9e1c5b-00f4-43a7-a5e9-2522c105c996\",\"type\":\"WheelZoomTool\"},{\"attributes\":{\"fill_color\":{\"value\":\"pink\"},\"line_color\":{\"value\":\"#1f77b4\"},\"size\":{\"units\":\"screen\",\"value\":20},\"x\":{\"field\":\"x\"},\"y\":{\"field\":\"y\"}},\"id\":\"29e3415e-1bf9-4677-b21a-300367a1bcaf\",\"type\":\"Circle\"},{\"attributes\":{\"overlay\":{\"id\":\"3876a112-c1f5-4032-8b64-dbf2c5e1fc69\",\"type\":\"BoxAnnotation\"}},\"id\":\"c64ac637-ba02-4bd9-a9c2-768572739943\",\"type\":\"BoxZoomTool\"},{\"attributes\":{\"active_drag\":\"auto\",\"active_inspect\":\"auto\",\"active_multi\":null,\"active_scroll\":\"auto\",\"active_tap\":\"auto\",\"tools\":[{\"id\":\"4c95f5f2-ac83-4457-ba0e-4c5ab08d7f5b\",\"type\":\"PanTool\"},{\"id\":\"ea9e1c5b-00f4-43a7-a5e9-2522c105c996\",\"type\":\"WheelZoomTool\"},{\"id\":\"c64ac637-ba02-4bd9-a9c2-768572739943\",\"type\":\"BoxZoomTool\"},{\"id\":\"8bfeb83b-8edf-433f-b4d2-531d2f0a4a54\",\"type\":\"SaveTool\"},{\"id\":\"da577746-79e1-465b-958e-5d48b058565a\",\"type\":\"ResetTool\"},{\"id\":\"1badf5da-a753-4374-b4b8-9678b7e1e60f\",\"type\":\"HelpTool\"}]},\"id\":\"79ea3738-93b0-4761-9c0a-ebe7963b8b23\",\"type\":\"Toolbar\"},{\"attributes\":{},\"id\":\"8bfeb83b-8edf-433f-b4d2-531d2f0a4a54\",\"type\":\"SaveTool\"},{\"attributes\":{\"callback\":null},\"id\":\"cc4c3607-b779-4ddd-a6c6-5100ae9b1115\",\"type\":\"DataRange1d\"},{\"attributes\":{},\"id\":\"da577746-79e1-465b-958e-5d48b058565a\",\"type\":\"ResetTool\"},{\"attributes\":{\"callback\":null},\"id\":\"2fbd96e2-9fd8-42e2-8602-e261bf97bbf1\",\"type\":\"DataRange1d\"},{\"attributes\":{},\"id\":\"1badf5da-a753-4374-b4b8-9678b7e1e60f\",\"type\":\"HelpTool\"},{\"attributes\":{},\"id\":\"8ebbea0b-50ee-434f-b221-4c9381d2393b\",\"type\":\"LinearScale\"},{\"attributes\":{\"bottom_units\":\"screen\",\"fill_alpha\":{\"value\":0.5},\"fill_color\":{\"value\":\"lightgrey\"},\"left_units\":\"screen\",\"level\":\"overlay\",\"line_alpha\":{\"value\":1.0},\"line_color\":{\"value\":\"black\"},\"line_dash\":[4,4],\"line_width\":{\"value\":2},\"plot\":null,\"render_mode\":\"css\",\"right_units\":\"screen\",\"top_units\":\"screen\"},\"id\":\"3876a112-c1f5-4032-8b64-dbf2c5e1fc69\",\"type\":\"BoxAnnotation\"},{\"attributes\":{},\"id\":\"748fd2ca-071d-4596-adac-4dee98ae0128\",\"type\":\"LinearScale\"},{\"attributes\":{\"plot\":null,\"text\":\"\"},\"id\":\"b5e386aa-83da-4910-a4c0-b5e97a1bf986\",\"type\":\"Title\"},{\"attributes\":{\"plot\":{\"id\":\"83d7617f-905b-45a3-999c-b60b9fe6e429\",\"subtype\":\"Figure\",\"type\":\"Plot\"},\"ticker\":{\"id\":\"e3fd12c6-70e4-43df-9924-63a540e602ff\",\"type\":\"BasicTicker\"}},\"id\":\"bfee2472-8562-48f2-aedb-1cf452f77ac3\",\"type\":\"Grid\"},{\"attributes\":{},\"id\":\"939fed72-676c-47c4-97fd-c354e86243ca\",\"type\":\"BasicTickFormatter\"},{\"attributes\":{\"formatter\":{\"id\":\"939fed72-676c-47c4-97fd-c354e86243ca\",\"type\":\"BasicTickFormatter\"},\"plot\":{\"id\":\"83d7617f-905b-45a3-999c-b60b9fe6e429\",\"subtype\":\"Figure\",\"type\":\"Plot\"},\"ticker\":{\"id\":\"e3fd12c6-70e4-43df-9924-63a540e602ff\",\"type\":\"BasicTicker\"}},\"id\":\"356efa86-4907-4d54-acc7-d246442e7245\",\"type\":\"LinearAxis\"},{\"attributes\":{\"data_source\":{\"id\":\"74c2266a-1483-40e4-9dd9-11835ccf2346\",\"type\":\"ColumnDataSource\"},\"glyph\":{\"id\":\"29e3415e-1bf9-4677-b21a-300367a1bcaf\",\"type\":\"Circle\"},\"hover_glyph\":null,\"muted_glyph\":null,\"nonselection_glyph\":{\"id\":\"4d8e3363-9f89-4526-a78a-3c0178e06858\",\"type\":\"Circle\"},\"selection_glyph\":null,\"view\":{\"id\":\"0dd5cc9d-f7d9-4573-8e3d-2b69a5b84822\",\"type\":\"CDSView\"}},\"id\":\"c877197c-25e2-4c32-8f70-b3cdae91b6d0\",\"type\":\"GlyphRenderer\"},{\"attributes\":{},\"id\":\"e3fd12c6-70e4-43df-9924-63a540e602ff\",\"type\":\"BasicTicker\"},{\"attributes\":{\"below\":[{\"id\":\"356efa86-4907-4d54-acc7-d246442e7245\",\"type\":\"LinearAxis\"}],\"left\":[{\"id\":\"aa6b5658-5253-4b8c-981a-38bdd9e7c483\",\"type\":\"LinearAxis\"}],\"min_border\":0,\"plot_height\":250,\"plot_width\":250,\"renderers\":[{\"id\":\"356efa86-4907-4d54-acc7-d246442e7245\",\"type\":\"LinearAxis\"},{\"id\":\"bfee2472-8562-48f2-aedb-1cf452f77ac3\",\"type\":\"Grid\"},{\"id\":\"aa6b5658-5253-4b8c-981a-38bdd9e7c483\",\"type\":\"LinearAxis\"},{\"id\":\"ad7dbf4d-9c1c-4fd8-9c79-a8d490bbd3b4\",\"type\":\"Grid\"},{\"id\":\"3876a112-c1f5-4032-8b64-dbf2c5e1fc69\",\"type\":\"BoxAnnotation\"},{\"id\":\"c877197c-25e2-4c32-8f70-b3cdae91b6d0\",\"type\":\"GlyphRenderer\"}],\"title\":{\"id\":\"b5e386aa-83da-4910-a4c0-b5e97a1bf986\",\"type\":\"Title\"},\"toolbar\":{\"id\":\"79ea3738-93b0-4761-9c0a-ebe7963b8b23\",\"type\":\"Toolbar\"},\"x_range\":{\"id\":\"cc4c3607-b779-4ddd-a6c6-5100ae9b1115\",\"type\":\"DataRange1d\"},\"x_scale\":{\"id\":\"8ebbea0b-50ee-434f-b221-4c9381d2393b\",\"type\":\"LinearScale\"},\"y_range\":{\"id\":\"2fbd96e2-9fd8-42e2-8602-e261bf97bbf1\",\"type\":\"DataRange1d\"},\"y_scale\":{\"id\":\"748fd2ca-071d-4596-adac-4dee98ae0128\",\"type\":\"LinearScale\"}},\"id\":\"83d7617f-905b-45a3-999c-b60b9fe6e429\",\"subtype\":\"Figure\",\"type\":\"Plot\"},{\"attributes\":{\"formatter\":{\"id\":\"20458e66-c73b-459a-88fc-12e30e7b9bbe\",\"type\":\"BasicTickFormatter\"},\"plot\":{\"id\":\"83d7617f-905b-45a3-999c-b60b9fe6e429\",\"subtype\":\"Figure\",\"type\":\"Plot\"},\"ticker\":{\"id\":\"9a0a6f98-281f-493a-a981-3d01163e9c1c\",\"type\":\"BasicTicker\"}},\"id\":\"aa6b5658-5253-4b8c-981a-38bdd9e7c483\",\"type\":\"LinearAxis\"},{\"attributes\":{\"callback\":null,\"data\":{\"x\":[1,2,3],\"y\":[4,5,6]},\"selected\":{\"id\":\"74e535be-cc9d-4f9d-af63-b9686b9440da\",\"type\":\"Selection\"},\"selection_policy\":{\"id\":\"130b084e-f697-4517-9252-8e91313fa438\",\"type\":\"UnionRenderers\"}},\"id\":\"74c2266a-1483-40e4-9dd9-11835ccf2346\",\"type\":\"ColumnDataSource\"},{\"attributes\":{},\"id\":\"9a0a6f98-281f-493a-a981-3d01163e9c1c\",\"type\":\"BasicTicker\"},{\"attributes\":{},\"id\":\"20458e66-c73b-459a-88fc-12e30e7b9bbe\",\"type\":\"BasicTickFormatter\"},{\"attributes\":{\"dimension\":1,\"plot\":{\"id\":\"83d7617f-905b-45a3-999c-b60b9fe6e429\",\"subtype\":\"Figure\",\"type\":\"Plot\"},\"ticker\":{\"id\":\"9a0a6f98-281f-493a-a981-3d01163e9c1c\",\"type\":\"BasicTicker\"}},\"id\":\"ad7dbf4d-9c1c-4fd8-9c79-a8d490bbd3b4\",\"type\":\"Grid\"},{\"attributes\":{\"fill_alpha\":{\"value\":0.1},\"fill_color\":{\"value\":\"#1f77b4\"},\"line_alpha\":{\"value\":0.1},\"line_color\":{\"value\":\"#1f77b4\"},\"size\":{\"units\":\"screen\",\"value\":20},\"x\":{\"field\":\"x\"},\"y\":{\"field\":\"y\"}},\"id\":\"4d8e3363-9f89-4526-a78a-3c0178e06858\",\"type\":\"Circle\"}],\"root_ids\":[\"83d7617f-905b-45a3-999c-b60b9fe6e429\"]},\"title\":\"Bokeh Application\",\"version\":\"0.13.0\"}};\n",
       "  var render_items = [{\"docid\":\"d460c589-5156-466a-a8d3-ff2f6f61c14b\",\"notebook_comms_target\":\"9f509d14-0034-45dd-8a14-de74ed85c53a\",\"roots\":{\"83d7617f-905b-45a3-999c-b60b9fe6e429\":\"4a2bc334-83b6-4278-9385-1a20bd012004\"}}];\n",
       "  root.Bokeh.embed.embed_items_notebook(docs_json, render_items);\n",
       "\n",
       "  }\n",
       "  if (root.Bokeh !== undefined) {\n",
       "    embed_document(root);\n",
       "  } else {\n",
       "    var attempts = 0;\n",
       "    var timer = setInterval(function(root) {\n",
       "      if (root.Bokeh !== undefined) {\n",
       "        embed_document(root);\n",
       "        clearInterval(timer);\n",
       "      }\n",
       "      attempts++;\n",
       "      if (attempts > 100) {\n",
       "        console.log(\"Bokeh: ERROR: Unable to run BokehJS code because BokehJS library is missing\")\n",
       "        clearInterval(timer);\n",
       "      }\n",
       "    }, 10, root)\n",
       "  }\n",
       "})(window);"
      ],
      "application/vnd.bokehjs_exec.v0+json": ""
     },
     "metadata": {
      "application/vnd.bokehjs_exec.v0+json": {
       "id": "83d7617f-905b-45a3-999c-b60b9fe6e429"
      }
     },
     "output_type": "display_data"
    }
   ],
   "source": [
    "# get a handle to update the shown cell with\n",
    "t3 = show(p2, notebook_handle=True)"
   ]
  },
  {
   "cell_type": "code",
   "execution_count": 51,
   "metadata": {},
   "outputs": [],
   "source": [
    "# this will update the immediately previous plot circle color because it was in the last shown cell\n",
    "r2.glyph.fill_color = \"red\"\n",
    "push_notebook()"
   ]
  },
  {
   "cell_type": "code",
   "execution_count": 52,
   "metadata": {},
   "outputs": [],
   "source": [
    "# this will update the immediately previous plot circle color with an explicit handle\n",
    "r2.glyph.fill_color = \"blue\"\n",
    "push_notebook(handle=t3)"
   ]
  },
  {
   "cell_type": "code",
   "execution_count": 55,
   "metadata": {},
   "outputs": [
    {
     "name": "stdout",
     "output_type": "stream",
     "text": [
      "0.13.0\n"
     ]
    }
   ],
   "source": [
    "import bokeh\n",
    "from bokeh.io import output_notebook, show\n",
    "\n",
    "print(bokeh.__version__)\n",
    "\n",
    "\n"
   ]
  },
  {
   "cell_type": "code",
   "execution_count": null,
   "metadata": {},
   "outputs": [],
   "source": []
  }
 ],
 "metadata": {
  "kernelspec": {
   "display_name": "Python 3",
   "language": "python",
   "name": "python3"
  },
  "language_info": {
   "codemirror_mode": {
    "name": "ipython",
    "version": 3
   },
   "file_extension": ".py",
   "mimetype": "text/x-python",
   "name": "python",
   "nbconvert_exporter": "python",
   "pygments_lexer": "ipython3",
   "version": "3.7.0"
  }
 },
 "nbformat": 4,
 "nbformat_minor": 2
}
